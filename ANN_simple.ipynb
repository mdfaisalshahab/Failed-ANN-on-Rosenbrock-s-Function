{
  "nbformat": 4,
  "nbformat_minor": 0,
  "metadata": {
    "colab": {
      "provenance": []
    },
    "kernelspec": {
      "name": "python3",
      "display_name": "Python 3"
    },
    "language_info": {
      "name": "python"
    }
  },
  "cells": [
    {
      "cell_type": "markdown",
      "source": [
        "# Rosenbrock Function\n",
        "### Importing libraries"
      ],
      "metadata": {
        "id": "C_Vg0vbmnrJR"
      }
    },
    {
      "cell_type": "code",
      "execution_count": null,
      "metadata": {
        "id": "6rQelDC5tKLD"
      },
      "outputs": [],
      "source": [
        "import numpy as np\n",
        "import tensorflow as tf\n",
        "import matplotlib.pyplot as plt\n",
        "from sklearn.model_selection import train_test_split\n",
        "from tensorflow import keras\n",
        "from sklearn.preprocessing import StandardScaler\n",
        "from sklearn.metrics import r2_score\n",
        "from tensorflow.keras.models import Sequential\n",
        "from tensorflow.keras.layers import Dense\n",
        "from tensorflow.keras.optimizers import Adam\n",
        "from tensorflow.keras.optimizers import RMSprop"
      ]
    },
    {
      "cell_type": "code",
      "source": [
        "x = np.random.uniform(-5.12, 5.12, 500).reshape(-1,1)\n",
        "y = np.random.uniform(-5.12, 5.12, 500).reshape(-1,1)\n",
        "f = (100 * (y-x**2)**2 + (1 - x)**2)**2  ## Rosenbrock Function\n",
        "X = np.hstack((x,y))"
      ],
      "metadata": {
        "id": "IzPteKZkOPOw"
      },
      "execution_count": null,
      "outputs": []
    },
    {
      "cell_type": "markdown",
      "source": [
        "### Train Test Split"
      ],
      "metadata": {
        "id": "r0syf4hRn8rz"
      }
    },
    {
      "cell_type": "code",
      "source": [
        "X_train, X_test, y_train, y_test = train_test_split(X,f, test_size = 0.2, random_state=0)"
      ],
      "metadata": {
        "id": "uE5lofRfOWzN"
      },
      "execution_count": null,
      "outputs": []
    },
    {
      "cell_type": "code",
      "source": [
        "scale = StandardScaler()\n",
        "X_train = scale.fit_transform(X_train)\n",
        "X_test = scale.transform(X_test)"
      ],
      "metadata": {
        "id": "HeUraOsPUHBX"
      },
      "execution_count": null,
      "outputs": []
    },
    {
      "cell_type": "markdown",
      "source": [
        "### Models with different activation function"
      ],
      "metadata": {
        "id": "HF4fGozooCds"
      }
    },
    {
      "cell_type": "code",
      "source": [
        "def model_1():\n",
        "  model_1 = Sequential()\n",
        "  model_1.add(Dense(units = 32, activation = 'relu',\n",
        "                    input_shape = [X.shape[1]]))\n",
        "  model_1.add(Dense(units = 32, activation = 'relu'))\n",
        "  model_1.add(Dense(units = 32, activation = 'relu'))\n",
        "  model_1.add(Dense(units = 1))\n",
        "  optimizers = RMSprop(learning_rate = 0.001)\n",
        "  model_1.compile(loss = 'mean_squared_error', optimizer = 'RMSprop',\n",
        "                  metrics = ['mean_squared_error','mean_absolute_error'])\n",
        "  return model_1\n",
        "def model_2():\n",
        "  model_2 = Sequential()\n",
        "  model_2.add(Dense(units = 32, activation = 'tanh',\n",
        "                    input_shape = [X.shape[1]]))\n",
        "  model_2.add(Dense(units = 32, activation = 'tanh'))\n",
        "  model_2.add(Dense(units = 32, activation = 'tanh'))\n",
        "  model_2.add(Dense(units = 1))\n",
        "  optimizers = RMSprop(learning_rate = 0.001)\n",
        "  model_2.compile(loss = 'mean_squared_error', optimizer = 'RMSprop',\n",
        "                  metrics = ['mean_squared_error','mean_absolute_error'])\n",
        "  return model_2\n",
        "def model_3():\n",
        "  model_3 = Sequential()\n",
        "  model_3.add(Dense(units = 32, activation = 'relu',\n",
        "                    input_shape = [X.shape[1]]))\n",
        "  model_3.add(Dense(units = 32, activation = 'tanh'))\n",
        "  model_3.add(Dense(units = 32, activation = 'relu'))\n",
        "  model_3.add(Dense(units = 1))\n",
        "  optimizers = RMSprop(learning_rate = 0.001)\n",
        "  model_3.compile(loss = 'mean_squared_error', optimizer = 'RMSprop',\n",
        "                  metrics = ['mean_squared_error','mean_absolute_error'])\n",
        "  return model_3\n"
      ],
      "metadata": {
        "id": "enV25wWQXkhm"
      },
      "execution_count": null,
      "outputs": []
    },
    {
      "cell_type": "code",
      "source": [
        "m1 = model_1()\n",
        "m1.summary()\n",
        "m2 = model_2()\n",
        "m2.summary()\n",
        "m3 = model_3()\n",
        "m3.summary()"
      ],
      "metadata": {
        "colab": {
          "base_uri": "https://localhost:8080/",
          "height": 837
        },
        "id": "1CUVPBCjauOu",
        "outputId": "bfe33ce5-c5ac-49c9-a87e-2b6532b81c8a"
      },
      "execution_count": null,
      "outputs": [
        {
          "output_type": "stream",
          "name": "stderr",
          "text": [
            "/usr/local/lib/python3.11/dist-packages/keras/src/layers/core/dense.py:87: UserWarning: Do not pass an `input_shape`/`input_dim` argument to a layer. When using Sequential models, prefer using an `Input(shape)` object as the first layer in the model instead.\n",
            "  super().__init__(activity_regularizer=activity_regularizer, **kwargs)\n"
          ]
        },
        {
          "output_type": "display_data",
          "data": {
            "text/plain": [
              "\u001b[1mModel: \"sequential_6\"\u001b[0m\n"
            ],
            "text/html": [
              "<pre style=\"white-space:pre;overflow-x:auto;line-height:normal;font-family:Menlo,'DejaVu Sans Mono',consolas,'Courier New',monospace\"><span style=\"font-weight: bold\">Model: \"sequential_6\"</span>\n",
              "</pre>\n"
            ]
          },
          "metadata": {}
        },
        {
          "output_type": "display_data",
          "data": {
            "text/plain": [
              "┏━━━━━━━━━━━━━━━━━━━━━━━━━━━━━━━━━┳━━━━━━━━━━━━━━━━━━━━━━━━┳━━━━━━━━━━━━━━━┓\n",
              "┃\u001b[1m \u001b[0m\u001b[1mLayer (type)                   \u001b[0m\u001b[1m \u001b[0m┃\u001b[1m \u001b[0m\u001b[1mOutput Shape          \u001b[0m\u001b[1m \u001b[0m┃\u001b[1m \u001b[0m\u001b[1m      Param #\u001b[0m\u001b[1m \u001b[0m┃\n",
              "┡━━━━━━━━━━━━━━━━━━━━━━━━━━━━━━━━━╇━━━━━━━━━━━━━━━━━━━━━━━━╇━━━━━━━━━━━━━━━┩\n",
              "│ dense_24 (\u001b[38;5;33mDense\u001b[0m)                │ (\u001b[38;5;45mNone\u001b[0m, \u001b[38;5;34m32\u001b[0m)             │            \u001b[38;5;34m96\u001b[0m │\n",
              "├─────────────────────────────────┼────────────────────────┼───────────────┤\n",
              "│ dense_25 (\u001b[38;5;33mDense\u001b[0m)                │ (\u001b[38;5;45mNone\u001b[0m, \u001b[38;5;34m32\u001b[0m)             │         \u001b[38;5;34m1,056\u001b[0m │\n",
              "├─────────────────────────────────┼────────────────────────┼───────────────┤\n",
              "│ dense_26 (\u001b[38;5;33mDense\u001b[0m)                │ (\u001b[38;5;45mNone\u001b[0m, \u001b[38;5;34m32\u001b[0m)             │         \u001b[38;5;34m1,056\u001b[0m │\n",
              "├─────────────────────────────────┼────────────────────────┼───────────────┤\n",
              "│ dense_27 (\u001b[38;5;33mDense\u001b[0m)                │ (\u001b[38;5;45mNone\u001b[0m, \u001b[38;5;34m1\u001b[0m)              │            \u001b[38;5;34m33\u001b[0m │\n",
              "└─────────────────────────────────┴────────────────────────┴───────────────┘\n"
            ],
            "text/html": [
              "<pre style=\"white-space:pre;overflow-x:auto;line-height:normal;font-family:Menlo,'DejaVu Sans Mono',consolas,'Courier New',monospace\">┏━━━━━━━━━━━━━━━━━━━━━━━━━━━━━━━━━┳━━━━━━━━━━━━━━━━━━━━━━━━┳━━━━━━━━━━━━━━━┓\n",
              "┃<span style=\"font-weight: bold\"> Layer (type)                    </span>┃<span style=\"font-weight: bold\"> Output Shape           </span>┃<span style=\"font-weight: bold\">       Param # </span>┃\n",
              "┡━━━━━━━━━━━━━━━━━━━━━━━━━━━━━━━━━╇━━━━━━━━━━━━━━━━━━━━━━━━╇━━━━━━━━━━━━━━━┩\n",
              "│ dense_24 (<span style=\"color: #0087ff; text-decoration-color: #0087ff\">Dense</span>)                │ (<span style=\"color: #00d7ff; text-decoration-color: #00d7ff\">None</span>, <span style=\"color: #00af00; text-decoration-color: #00af00\">32</span>)             │            <span style=\"color: #00af00; text-decoration-color: #00af00\">96</span> │\n",
              "├─────────────────────────────────┼────────────────────────┼───────────────┤\n",
              "│ dense_25 (<span style=\"color: #0087ff; text-decoration-color: #0087ff\">Dense</span>)                │ (<span style=\"color: #00d7ff; text-decoration-color: #00d7ff\">None</span>, <span style=\"color: #00af00; text-decoration-color: #00af00\">32</span>)             │         <span style=\"color: #00af00; text-decoration-color: #00af00\">1,056</span> │\n",
              "├─────────────────────────────────┼────────────────────────┼───────────────┤\n",
              "│ dense_26 (<span style=\"color: #0087ff; text-decoration-color: #0087ff\">Dense</span>)                │ (<span style=\"color: #00d7ff; text-decoration-color: #00d7ff\">None</span>, <span style=\"color: #00af00; text-decoration-color: #00af00\">32</span>)             │         <span style=\"color: #00af00; text-decoration-color: #00af00\">1,056</span> │\n",
              "├─────────────────────────────────┼────────────────────────┼───────────────┤\n",
              "│ dense_27 (<span style=\"color: #0087ff; text-decoration-color: #0087ff\">Dense</span>)                │ (<span style=\"color: #00d7ff; text-decoration-color: #00d7ff\">None</span>, <span style=\"color: #00af00; text-decoration-color: #00af00\">1</span>)              │            <span style=\"color: #00af00; text-decoration-color: #00af00\">33</span> │\n",
              "└─────────────────────────────────┴────────────────────────┴───────────────┘\n",
              "</pre>\n"
            ]
          },
          "metadata": {}
        },
        {
          "output_type": "display_data",
          "data": {
            "text/plain": [
              "\u001b[1m Total params: \u001b[0m\u001b[38;5;34m2,241\u001b[0m (8.75 KB)\n"
            ],
            "text/html": [
              "<pre style=\"white-space:pre;overflow-x:auto;line-height:normal;font-family:Menlo,'DejaVu Sans Mono',consolas,'Courier New',monospace\"><span style=\"font-weight: bold\"> Total params: </span><span style=\"color: #00af00; text-decoration-color: #00af00\">2,241</span> (8.75 KB)\n",
              "</pre>\n"
            ]
          },
          "metadata": {}
        },
        {
          "output_type": "display_data",
          "data": {
            "text/plain": [
              "\u001b[1m Trainable params: \u001b[0m\u001b[38;5;34m2,241\u001b[0m (8.75 KB)\n"
            ],
            "text/html": [
              "<pre style=\"white-space:pre;overflow-x:auto;line-height:normal;font-family:Menlo,'DejaVu Sans Mono',consolas,'Courier New',monospace\"><span style=\"font-weight: bold\"> Trainable params: </span><span style=\"color: #00af00; text-decoration-color: #00af00\">2,241</span> (8.75 KB)\n",
              "</pre>\n"
            ]
          },
          "metadata": {}
        },
        {
          "output_type": "display_data",
          "data": {
            "text/plain": [
              "\u001b[1m Non-trainable params: \u001b[0m\u001b[38;5;34m0\u001b[0m (0.00 B)\n"
            ],
            "text/html": [
              "<pre style=\"white-space:pre;overflow-x:auto;line-height:normal;font-family:Menlo,'DejaVu Sans Mono',consolas,'Courier New',monospace\"><span style=\"font-weight: bold\"> Non-trainable params: </span><span style=\"color: #00af00; text-decoration-color: #00af00\">0</span> (0.00 B)\n",
              "</pre>\n"
            ]
          },
          "metadata": {}
        },
        {
          "output_type": "display_data",
          "data": {
            "text/plain": [
              "\u001b[1mModel: \"sequential_7\"\u001b[0m\n"
            ],
            "text/html": [
              "<pre style=\"white-space:pre;overflow-x:auto;line-height:normal;font-family:Menlo,'DejaVu Sans Mono',consolas,'Courier New',monospace\"><span style=\"font-weight: bold\">Model: \"sequential_7\"</span>\n",
              "</pre>\n"
            ]
          },
          "metadata": {}
        },
        {
          "output_type": "display_data",
          "data": {
            "text/plain": [
              "┏━━━━━━━━━━━━━━━━━━━━━━━━━━━━━━━━━┳━━━━━━━━━━━━━━━━━━━━━━━━┳━━━━━━━━━━━━━━━┓\n",
              "┃\u001b[1m \u001b[0m\u001b[1mLayer (type)                   \u001b[0m\u001b[1m \u001b[0m┃\u001b[1m \u001b[0m\u001b[1mOutput Shape          \u001b[0m\u001b[1m \u001b[0m┃\u001b[1m \u001b[0m\u001b[1m      Param #\u001b[0m\u001b[1m \u001b[0m┃\n",
              "┡━━━━━━━━━━━━━━━━━━━━━━━━━━━━━━━━━╇━━━━━━━━━━━━━━━━━━━━━━━━╇━━━━━━━━━━━━━━━┩\n",
              "│ dense_28 (\u001b[38;5;33mDense\u001b[0m)                │ (\u001b[38;5;45mNone\u001b[0m, \u001b[38;5;34m32\u001b[0m)             │            \u001b[38;5;34m96\u001b[0m │\n",
              "├─────────────────────────────────┼────────────────────────┼───────────────┤\n",
              "│ dense_29 (\u001b[38;5;33mDense\u001b[0m)                │ (\u001b[38;5;45mNone\u001b[0m, \u001b[38;5;34m32\u001b[0m)             │         \u001b[38;5;34m1,056\u001b[0m │\n",
              "├─────────────────────────────────┼────────────────────────┼───────────────┤\n",
              "│ dense_30 (\u001b[38;5;33mDense\u001b[0m)                │ (\u001b[38;5;45mNone\u001b[0m, \u001b[38;5;34m32\u001b[0m)             │         \u001b[38;5;34m1,056\u001b[0m │\n",
              "├─────────────────────────────────┼────────────────────────┼───────────────┤\n",
              "│ dense_31 (\u001b[38;5;33mDense\u001b[0m)                │ (\u001b[38;5;45mNone\u001b[0m, \u001b[38;5;34m1\u001b[0m)              │            \u001b[38;5;34m33\u001b[0m │\n",
              "└─────────────────────────────────┴────────────────────────┴───────────────┘\n"
            ],
            "text/html": [
              "<pre style=\"white-space:pre;overflow-x:auto;line-height:normal;font-family:Menlo,'DejaVu Sans Mono',consolas,'Courier New',monospace\">┏━━━━━━━━━━━━━━━━━━━━━━━━━━━━━━━━━┳━━━━━━━━━━━━━━━━━━━━━━━━┳━━━━━━━━━━━━━━━┓\n",
              "┃<span style=\"font-weight: bold\"> Layer (type)                    </span>┃<span style=\"font-weight: bold\"> Output Shape           </span>┃<span style=\"font-weight: bold\">       Param # </span>┃\n",
              "┡━━━━━━━━━━━━━━━━━━━━━━━━━━━━━━━━━╇━━━━━━━━━━━━━━━━━━━━━━━━╇━━━━━━━━━━━━━━━┩\n",
              "│ dense_28 (<span style=\"color: #0087ff; text-decoration-color: #0087ff\">Dense</span>)                │ (<span style=\"color: #00d7ff; text-decoration-color: #00d7ff\">None</span>, <span style=\"color: #00af00; text-decoration-color: #00af00\">32</span>)             │            <span style=\"color: #00af00; text-decoration-color: #00af00\">96</span> │\n",
              "├─────────────────────────────────┼────────────────────────┼───────────────┤\n",
              "│ dense_29 (<span style=\"color: #0087ff; text-decoration-color: #0087ff\">Dense</span>)                │ (<span style=\"color: #00d7ff; text-decoration-color: #00d7ff\">None</span>, <span style=\"color: #00af00; text-decoration-color: #00af00\">32</span>)             │         <span style=\"color: #00af00; text-decoration-color: #00af00\">1,056</span> │\n",
              "├─────────────────────────────────┼────────────────────────┼───────────────┤\n",
              "│ dense_30 (<span style=\"color: #0087ff; text-decoration-color: #0087ff\">Dense</span>)                │ (<span style=\"color: #00d7ff; text-decoration-color: #00d7ff\">None</span>, <span style=\"color: #00af00; text-decoration-color: #00af00\">32</span>)             │         <span style=\"color: #00af00; text-decoration-color: #00af00\">1,056</span> │\n",
              "├─────────────────────────────────┼────────────────────────┼───────────────┤\n",
              "│ dense_31 (<span style=\"color: #0087ff; text-decoration-color: #0087ff\">Dense</span>)                │ (<span style=\"color: #00d7ff; text-decoration-color: #00d7ff\">None</span>, <span style=\"color: #00af00; text-decoration-color: #00af00\">1</span>)              │            <span style=\"color: #00af00; text-decoration-color: #00af00\">33</span> │\n",
              "└─────────────────────────────────┴────────────────────────┴───────────────┘\n",
              "</pre>\n"
            ]
          },
          "metadata": {}
        },
        {
          "output_type": "display_data",
          "data": {
            "text/plain": [
              "\u001b[1m Total params: \u001b[0m\u001b[38;5;34m2,241\u001b[0m (8.75 KB)\n"
            ],
            "text/html": [
              "<pre style=\"white-space:pre;overflow-x:auto;line-height:normal;font-family:Menlo,'DejaVu Sans Mono',consolas,'Courier New',monospace\"><span style=\"font-weight: bold\"> Total params: </span><span style=\"color: #00af00; text-decoration-color: #00af00\">2,241</span> (8.75 KB)\n",
              "</pre>\n"
            ]
          },
          "metadata": {}
        },
        {
          "output_type": "display_data",
          "data": {
            "text/plain": [
              "\u001b[1m Trainable params: \u001b[0m\u001b[38;5;34m2,241\u001b[0m (8.75 KB)\n"
            ],
            "text/html": [
              "<pre style=\"white-space:pre;overflow-x:auto;line-height:normal;font-family:Menlo,'DejaVu Sans Mono',consolas,'Courier New',monospace\"><span style=\"font-weight: bold\"> Trainable params: </span><span style=\"color: #00af00; text-decoration-color: #00af00\">2,241</span> (8.75 KB)\n",
              "</pre>\n"
            ]
          },
          "metadata": {}
        },
        {
          "output_type": "display_data",
          "data": {
            "text/plain": [
              "\u001b[1m Non-trainable params: \u001b[0m\u001b[38;5;34m0\u001b[0m (0.00 B)\n"
            ],
            "text/html": [
              "<pre style=\"white-space:pre;overflow-x:auto;line-height:normal;font-family:Menlo,'DejaVu Sans Mono',consolas,'Courier New',monospace\"><span style=\"font-weight: bold\"> Non-trainable params: </span><span style=\"color: #00af00; text-decoration-color: #00af00\">0</span> (0.00 B)\n",
              "</pre>\n"
            ]
          },
          "metadata": {}
        },
        {
          "output_type": "display_data",
          "data": {
            "text/plain": [
              "\u001b[1mModel: \"sequential_8\"\u001b[0m\n"
            ],
            "text/html": [
              "<pre style=\"white-space:pre;overflow-x:auto;line-height:normal;font-family:Menlo,'DejaVu Sans Mono',consolas,'Courier New',monospace\"><span style=\"font-weight: bold\">Model: \"sequential_8\"</span>\n",
              "</pre>\n"
            ]
          },
          "metadata": {}
        },
        {
          "output_type": "display_data",
          "data": {
            "text/plain": [
              "┏━━━━━━━━━━━━━━━━━━━━━━━━━━━━━━━━━┳━━━━━━━━━━━━━━━━━━━━━━━━┳━━━━━━━━━━━━━━━┓\n",
              "┃\u001b[1m \u001b[0m\u001b[1mLayer (type)                   \u001b[0m\u001b[1m \u001b[0m┃\u001b[1m \u001b[0m\u001b[1mOutput Shape          \u001b[0m\u001b[1m \u001b[0m┃\u001b[1m \u001b[0m\u001b[1m      Param #\u001b[0m\u001b[1m \u001b[0m┃\n",
              "┡━━━━━━━━━━━━━━━━━━━━━━━━━━━━━━━━━╇━━━━━━━━━━━━━━━━━━━━━━━━╇━━━━━━━━━━━━━━━┩\n",
              "│ dense_32 (\u001b[38;5;33mDense\u001b[0m)                │ (\u001b[38;5;45mNone\u001b[0m, \u001b[38;5;34m32\u001b[0m)             │            \u001b[38;5;34m96\u001b[0m │\n",
              "├─────────────────────────────────┼────────────────────────┼───────────────┤\n",
              "│ dense_33 (\u001b[38;5;33mDense\u001b[0m)                │ (\u001b[38;5;45mNone\u001b[0m, \u001b[38;5;34m32\u001b[0m)             │         \u001b[38;5;34m1,056\u001b[0m │\n",
              "├─────────────────────────────────┼────────────────────────┼───────────────┤\n",
              "│ dense_34 (\u001b[38;5;33mDense\u001b[0m)                │ (\u001b[38;5;45mNone\u001b[0m, \u001b[38;5;34m32\u001b[0m)             │         \u001b[38;5;34m1,056\u001b[0m │\n",
              "├─────────────────────────────────┼────────────────────────┼───────────────┤\n",
              "│ dense_35 (\u001b[38;5;33mDense\u001b[0m)                │ (\u001b[38;5;45mNone\u001b[0m, \u001b[38;5;34m1\u001b[0m)              │            \u001b[38;5;34m33\u001b[0m │\n",
              "└─────────────────────────────────┴────────────────────────┴───────────────┘\n"
            ],
            "text/html": [
              "<pre style=\"white-space:pre;overflow-x:auto;line-height:normal;font-family:Menlo,'DejaVu Sans Mono',consolas,'Courier New',monospace\">┏━━━━━━━━━━━━━━━━━━━━━━━━━━━━━━━━━┳━━━━━━━━━━━━━━━━━━━━━━━━┳━━━━━━━━━━━━━━━┓\n",
              "┃<span style=\"font-weight: bold\"> Layer (type)                    </span>┃<span style=\"font-weight: bold\"> Output Shape           </span>┃<span style=\"font-weight: bold\">       Param # </span>┃\n",
              "┡━━━━━━━━━━━━━━━━━━━━━━━━━━━━━━━━━╇━━━━━━━━━━━━━━━━━━━━━━━━╇━━━━━━━━━━━━━━━┩\n",
              "│ dense_32 (<span style=\"color: #0087ff; text-decoration-color: #0087ff\">Dense</span>)                │ (<span style=\"color: #00d7ff; text-decoration-color: #00d7ff\">None</span>, <span style=\"color: #00af00; text-decoration-color: #00af00\">32</span>)             │            <span style=\"color: #00af00; text-decoration-color: #00af00\">96</span> │\n",
              "├─────────────────────────────────┼────────────────────────┼───────────────┤\n",
              "│ dense_33 (<span style=\"color: #0087ff; text-decoration-color: #0087ff\">Dense</span>)                │ (<span style=\"color: #00d7ff; text-decoration-color: #00d7ff\">None</span>, <span style=\"color: #00af00; text-decoration-color: #00af00\">32</span>)             │         <span style=\"color: #00af00; text-decoration-color: #00af00\">1,056</span> │\n",
              "├─────────────────────────────────┼────────────────────────┼───────────────┤\n",
              "│ dense_34 (<span style=\"color: #0087ff; text-decoration-color: #0087ff\">Dense</span>)                │ (<span style=\"color: #00d7ff; text-decoration-color: #00d7ff\">None</span>, <span style=\"color: #00af00; text-decoration-color: #00af00\">32</span>)             │         <span style=\"color: #00af00; text-decoration-color: #00af00\">1,056</span> │\n",
              "├─────────────────────────────────┼────────────────────────┼───────────────┤\n",
              "│ dense_35 (<span style=\"color: #0087ff; text-decoration-color: #0087ff\">Dense</span>)                │ (<span style=\"color: #00d7ff; text-decoration-color: #00d7ff\">None</span>, <span style=\"color: #00af00; text-decoration-color: #00af00\">1</span>)              │            <span style=\"color: #00af00; text-decoration-color: #00af00\">33</span> │\n",
              "└─────────────────────────────────┴────────────────────────┴───────────────┘\n",
              "</pre>\n"
            ]
          },
          "metadata": {}
        },
        {
          "output_type": "display_data",
          "data": {
            "text/plain": [
              "\u001b[1m Total params: \u001b[0m\u001b[38;5;34m2,241\u001b[0m (8.75 KB)\n"
            ],
            "text/html": [
              "<pre style=\"white-space:pre;overflow-x:auto;line-height:normal;font-family:Menlo,'DejaVu Sans Mono',consolas,'Courier New',monospace\"><span style=\"font-weight: bold\"> Total params: </span><span style=\"color: #00af00; text-decoration-color: #00af00\">2,241</span> (8.75 KB)\n",
              "</pre>\n"
            ]
          },
          "metadata": {}
        },
        {
          "output_type": "display_data",
          "data": {
            "text/plain": [
              "\u001b[1m Trainable params: \u001b[0m\u001b[38;5;34m2,241\u001b[0m (8.75 KB)\n"
            ],
            "text/html": [
              "<pre style=\"white-space:pre;overflow-x:auto;line-height:normal;font-family:Menlo,'DejaVu Sans Mono',consolas,'Courier New',monospace\"><span style=\"font-weight: bold\"> Trainable params: </span><span style=\"color: #00af00; text-decoration-color: #00af00\">2,241</span> (8.75 KB)\n",
              "</pre>\n"
            ]
          },
          "metadata": {}
        },
        {
          "output_type": "display_data",
          "data": {
            "text/plain": [
              "\u001b[1m Non-trainable params: \u001b[0m\u001b[38;5;34m0\u001b[0m (0.00 B)\n"
            ],
            "text/html": [
              "<pre style=\"white-space:pre;overflow-x:auto;line-height:normal;font-family:Menlo,'DejaVu Sans Mono',consolas,'Courier New',monospace\"><span style=\"font-weight: bold\"> Non-trainable params: </span><span style=\"color: #00af00; text-decoration-color: #00af00\">0</span> (0.00 B)\n",
              "</pre>\n"
            ]
          },
          "metadata": {}
        }
      ]
    },
    {
      "cell_type": "code",
      "source": [
        "\n",
        "history_1 = m1.fit(X_train, y_train,\n",
        "                   epochs=100, batch_size=32,\n",
        "                   verbose=1, validation_split=0.1)\n",
        "history_2 = m2.fit(X_train, y_train,\n",
        "                   epochs=100, batch_size=32,\n",
        "                   verbose=0, validation_split=0.1)\n",
        "history_3 = m3.fit(X_train, y_train,\n",
        "                   epochs=100, batch_size=32,\n",
        "                   verbose=0, validation_split=0.1)\n"
      ],
      "metadata": {
        "colab": {
          "base_uri": "https://localhost:8080/"
        },
        "id": "bY54Yi-WYEQI",
        "outputId": "5dcd6d75-b9a5-4bbe-e116-47d909764faf"
      },
      "execution_count": null,
      "outputs": [
        {
          "output_type": "stream",
          "name": "stdout",
          "text": [
            "Epoch 1/100\n",
            "\u001b[1m12/12\u001b[0m \u001b[32m━━━━━━━━━━━━━━━━━━━━\u001b[0m\u001b[37m\u001b[0m \u001b[1m1s\u001b[0m 27ms/step - loss: 2044342585366937600.0000 - mean_absolute_error: 660597824.0000 - mean_squared_error: 2044342585366937600.0000 - val_loss: 1616308206231879680.0000 - val_mean_absolute_error: 513112512.0000 - val_mean_squared_error: 1616308206231879680.0000\n",
            "Epoch 2/100\n",
            "\u001b[1m12/12\u001b[0m \u001b[32m━━━━━━━━━━━━━━━━━━━━\u001b[0m\u001b[37m\u001b[0m \u001b[1m0s\u001b[0m 8ms/step - loss: 1916915784777465856.0000 - mean_absolute_error: 606884672.0000 - mean_squared_error: 1916915784777465856.0000 - val_loss: 1616308206231879680.0000 - val_mean_absolute_error: 513112512.0000 - val_mean_squared_error: 1616308206231879680.0000\n",
            "Epoch 3/100\n",
            "\u001b[1m12/12\u001b[0m \u001b[32m━━━━━━━━━━━━━━━━━━━━\u001b[0m\u001b[37m\u001b[0m \u001b[1m0s\u001b[0m 8ms/step - loss: 1739252160475955200.0000 - mean_absolute_error: 611880896.0000 - mean_squared_error: 1739252160475955200.0000 - val_loss: 1616308206231879680.0000 - val_mean_absolute_error: 513112512.0000 - val_mean_squared_error: 1616308206231879680.0000\n",
            "Epoch 4/100\n",
            "\u001b[1m12/12\u001b[0m \u001b[32m━━━━━━━━━━━━━━━━━━━━\u001b[0m\u001b[37m\u001b[0m \u001b[1m0s\u001b[0m 8ms/step - loss: 1821371385419661312.0000 - mean_absolute_error: 600856000.0000 - mean_squared_error: 1821371385419661312.0000 - val_loss: 1616308206231879680.0000 - val_mean_absolute_error: 513112512.0000 - val_mean_squared_error: 1616308206231879680.0000\n",
            "Epoch 5/100\n",
            "\u001b[1m12/12\u001b[0m \u001b[32m━━━━━━━━━━━━━━━━━━━━\u001b[0m\u001b[37m\u001b[0m \u001b[1m0s\u001b[0m 9ms/step - loss: 1783626800505552896.0000 - mean_absolute_error: 611025792.0000 - mean_squared_error: 1783626800505552896.0000 - val_loss: 1616308206231879680.0000 - val_mean_absolute_error: 513112512.0000 - val_mean_squared_error: 1616308206231879680.0000\n",
            "Epoch 6/100\n",
            "\u001b[1m12/12\u001b[0m \u001b[32m━━━━━━━━━━━━━━━━━━━━\u001b[0m\u001b[37m\u001b[0m \u001b[1m0s\u001b[0m 8ms/step - loss: 1682070683883929600.0000 - mean_absolute_error: 570630720.0000 - mean_squared_error: 1682070683883929600.0000 - val_loss: 1616308206231879680.0000 - val_mean_absolute_error: 513112512.0000 - val_mean_squared_error: 1616308206231879680.0000\n",
            "Epoch 7/100\n",
            "\u001b[1m12/12\u001b[0m \u001b[32m━━━━━━━━━━━━━━━━━━━━\u001b[0m\u001b[37m\u001b[0m \u001b[1m0s\u001b[0m 8ms/step - loss: 1258963491230842880.0000 - mean_absolute_error: 502557504.0000 - mean_squared_error: 1258963491230842880.0000 - val_loss: 1616308206231879680.0000 - val_mean_absolute_error: 513112512.0000 - val_mean_squared_error: 1616308206231879680.0000\n",
            "Epoch 8/100\n",
            "\u001b[1m12/12\u001b[0m \u001b[32m━━━━━━━━━━━━━━━━━━━━\u001b[0m\u001b[37m\u001b[0m \u001b[1m0s\u001b[0m 8ms/step - loss: 1880026619909767168.0000 - mean_absolute_error: 631533504.0000 - mean_squared_error: 1880026619909767168.0000 - val_loss: 1616308206231879680.0000 - val_mean_absolute_error: 513112512.0000 - val_mean_squared_error: 1616308206231879680.0000\n",
            "Epoch 9/100\n",
            "\u001b[1m12/12\u001b[0m \u001b[32m━━━━━━━━━━━━━━━━━━━━\u001b[0m\u001b[37m\u001b[0m \u001b[1m0s\u001b[0m 8ms/step - loss: 1672585334510059520.0000 - mean_absolute_error: 572632832.0000 - mean_squared_error: 1672585334510059520.0000 - val_loss: 1616308206231879680.0000 - val_mean_absolute_error: 513112512.0000 - val_mean_squared_error: 1616308206231879680.0000\n",
            "Epoch 10/100\n",
            "\u001b[1m12/12\u001b[0m \u001b[32m━━━━━━━━━━━━━━━━━━━━\u001b[0m\u001b[37m\u001b[0m \u001b[1m0s\u001b[0m 8ms/step - loss: 1224963568043032576.0000 - mean_absolute_error: 494443968.0000 - mean_squared_error: 1224963568043032576.0000 - val_loss: 1616308206231879680.0000 - val_mean_absolute_error: 513112512.0000 - val_mean_squared_error: 1616308206231879680.0000\n",
            "Epoch 11/100\n",
            "\u001b[1m12/12\u001b[0m \u001b[32m━━━━━━━━━━━━━━━━━━━━\u001b[0m\u001b[37m\u001b[0m \u001b[1m0s\u001b[0m 8ms/step - loss: 1955835885060620288.0000 - mean_absolute_error: 618028480.0000 - mean_squared_error: 1955835885060620288.0000 - val_loss: 1616308206231879680.0000 - val_mean_absolute_error: 513112512.0000 - val_mean_squared_error: 1616308206231879680.0000\n",
            "Epoch 12/100\n",
            "\u001b[1m12/12\u001b[0m \u001b[32m━━━━━━━━━━━━━━━━━━━━\u001b[0m\u001b[37m\u001b[0m \u001b[1m0s\u001b[0m 8ms/step - loss: 1656349670936412160.0000 - mean_absolute_error: 576147072.0000 - mean_squared_error: 1656349670936412160.0000 - val_loss: 1616308206231879680.0000 - val_mean_absolute_error: 513112480.0000 - val_mean_squared_error: 1616308206231879680.0000\n",
            "Epoch 13/100\n",
            "\u001b[1m12/12\u001b[0m \u001b[32m━━━━━━━━━━━━━━━━━━━━\u001b[0m\u001b[37m\u001b[0m \u001b[1m0s\u001b[0m 8ms/step - loss: 1534455063102095360.0000 - mean_absolute_error: 527887584.0000 - mean_squared_error: 1534455063102095360.0000 - val_loss: 1616308068792926208.0000 - val_mean_absolute_error: 513112480.0000 - val_mean_squared_error: 1616308068792926208.0000\n",
            "Epoch 14/100\n",
            "\u001b[1m12/12\u001b[0m \u001b[32m━━━━━━━━━━━━━━━━━━━━\u001b[0m\u001b[37m\u001b[0m \u001b[1m0s\u001b[0m 8ms/step - loss: 1814089457347854336.0000 - mean_absolute_error: 593081152.0000 - mean_squared_error: 1814089457347854336.0000 - val_loss: 1616308068792926208.0000 - val_mean_absolute_error: 513112480.0000 - val_mean_squared_error: 1616308068792926208.0000\n",
            "Epoch 15/100\n",
            "\u001b[1m12/12\u001b[0m \u001b[32m━━━━━━━━━━━━━━━━━━━━\u001b[0m\u001b[37m\u001b[0m \u001b[1m0s\u001b[0m 8ms/step - loss: 1747697096972042240.0000 - mean_absolute_error: 552039808.0000 - mean_squared_error: 1747697096972042240.0000 - val_loss: 1616308068792926208.0000 - val_mean_absolute_error: 513112480.0000 - val_mean_squared_error: 1616308068792926208.0000\n",
            "Epoch 16/100\n",
            "\u001b[1m12/12\u001b[0m \u001b[32m━━━━━━━━━━━━━━━━━━━━\u001b[0m\u001b[37m\u001b[0m \u001b[1m0s\u001b[0m 8ms/step - loss: 1881812913988042752.0000 - mean_absolute_error: 593548608.0000 - mean_squared_error: 1881812913988042752.0000 - val_loss: 1616308068792926208.0000 - val_mean_absolute_error: 513112480.0000 - val_mean_squared_error: 1616308068792926208.0000\n",
            "Epoch 17/100\n",
            "\u001b[1m12/12\u001b[0m \u001b[32m━━━━━━━━━━━━━━━━━━━━\u001b[0m\u001b[37m\u001b[0m \u001b[1m0s\u001b[0m 8ms/step - loss: 1725508265128755200.0000 - mean_absolute_error: 550632192.0000 - mean_squared_error: 1725508265128755200.0000 - val_loss: 1616308068792926208.0000 - val_mean_absolute_error: 513112480.0000 - val_mean_squared_error: 1616308068792926208.0000\n",
            "Epoch 18/100\n",
            "\u001b[1m12/12\u001b[0m \u001b[32m━━━━━━━━━━━━━━━━━━━━\u001b[0m\u001b[37m\u001b[0m \u001b[1m0s\u001b[0m 8ms/step - loss: 1708782631685980160.0000 - mean_absolute_error: 572189056.0000 - mean_squared_error: 1708782631685980160.0000 - val_loss: 1616308068792926208.0000 - val_mean_absolute_error: 513112480.0000 - val_mean_squared_error: 1616308068792926208.0000\n",
            "Epoch 19/100\n",
            "\u001b[1m12/12\u001b[0m \u001b[32m━━━━━━━━━━━━━━━━━━━━\u001b[0m\u001b[37m\u001b[0m \u001b[1m0s\u001b[0m 12ms/step - loss: 1397689560502108160.0000 - mean_absolute_error: 524857056.0000 - mean_squared_error: 1397689560502108160.0000 - val_loss: 1616308068792926208.0000 - val_mean_absolute_error: 513112384.0000 - val_mean_squared_error: 1616308068792926208.0000\n",
            "Epoch 20/100\n",
            "\u001b[1m12/12\u001b[0m \u001b[32m━━━━━━━━━━━━━━━━━━━━\u001b[0m\u001b[37m\u001b[0m \u001b[1m0s\u001b[0m 8ms/step - loss: 1567252807763886080.0000 - mean_absolute_error: 553773696.0000 - mean_squared_error: 1567252807763886080.0000 - val_loss: 1616308068792926208.0000 - val_mean_absolute_error: 513112384.0000 - val_mean_squared_error: 1616308068792926208.0000\n",
            "Epoch 21/100\n",
            "\u001b[1m12/12\u001b[0m \u001b[32m━━━━━━━━━━━━━━━━━━━━\u001b[0m\u001b[37m\u001b[0m \u001b[1m0s\u001b[0m 8ms/step - loss: 2198276274839879680.0000 - mean_absolute_error: 692101824.0000 - mean_squared_error: 2198276274839879680.0000 - val_loss: 1616308068792926208.0000 - val_mean_absolute_error: 513112384.0000 - val_mean_squared_error: 1616308068792926208.0000\n",
            "Epoch 22/100\n",
            "\u001b[1m12/12\u001b[0m \u001b[32m━━━━━━━━━━━━━━━━━━━━\u001b[0m\u001b[37m\u001b[0m \u001b[1m0s\u001b[0m 8ms/step - loss: 1802059425750450176.0000 - mean_absolute_error: 612507904.0000 - mean_squared_error: 1802059425750450176.0000 - val_loss: 1616308068792926208.0000 - val_mean_absolute_error: 513112384.0000 - val_mean_squared_error: 1616308068792926208.0000\n",
            "Epoch 23/100\n",
            "\u001b[1m12/12\u001b[0m \u001b[32m━━━━━━━━━━━━━━━━━━━━\u001b[0m\u001b[37m\u001b[0m \u001b[1m0s\u001b[0m 8ms/step - loss: 1329166484030619648.0000 - mean_absolute_error: 504688768.0000 - mean_squared_error: 1329166484030619648.0000 - val_loss: 1616307793915019264.0000 - val_mean_absolute_error: 513112384.0000 - val_mean_squared_error: 1616307793915019264.0000\n",
            "Epoch 24/100\n",
            "\u001b[1m12/12\u001b[0m \u001b[32m━━━━━━━━━━━━━━━━━━━━\u001b[0m\u001b[37m\u001b[0m \u001b[1m0s\u001b[0m 8ms/step - loss: 1840850195978387456.0000 - mean_absolute_error: 587653888.0000 - mean_squared_error: 1840850195978387456.0000 - val_loss: 1616307793915019264.0000 - val_mean_absolute_error: 513112320.0000 - val_mean_squared_error: 1616307793915019264.0000\n",
            "Epoch 25/100\n",
            "\u001b[1m12/12\u001b[0m \u001b[32m━━━━━━━━━━━━━━━━━━━━\u001b[0m\u001b[37m\u001b[0m \u001b[1m0s\u001b[0m 8ms/step - loss: 1536214281706536960.0000 - mean_absolute_error: 541899264.0000 - mean_squared_error: 1536214281706536960.0000 - val_loss: 1616307793915019264.0000 - val_mean_absolute_error: 513112256.0000 - val_mean_squared_error: 1616307793915019264.0000\n",
            "Epoch 26/100\n",
            "\u001b[1m12/12\u001b[0m \u001b[32m━━━━━━━━━━━━━━━━━━━━\u001b[0m\u001b[37m\u001b[0m \u001b[1m0s\u001b[0m 8ms/step - loss: 1485731717145690112.0000 - mean_absolute_error: 517109952.0000 - mean_squared_error: 1485731717145690112.0000 - val_loss: 1616307793915019264.0000 - val_mean_absolute_error: 513112256.0000 - val_mean_squared_error: 1616307793915019264.0000\n",
            "Epoch 27/100\n",
            "\u001b[1m12/12\u001b[0m \u001b[32m━━━━━━━━━━━━━━━━━━━━\u001b[0m\u001b[37m\u001b[0m \u001b[1m0s\u001b[0m 11ms/step - loss: 1709129390165590016.0000 - mean_absolute_error: 561149888.0000 - mean_squared_error: 1709129390165590016.0000 - val_loss: 1616307793915019264.0000 - val_mean_absolute_error: 513112256.0000 - val_mean_squared_error: 1616307793915019264.0000\n",
            "Epoch 28/100\n",
            "\u001b[1m12/12\u001b[0m \u001b[32m━━━━━━━━━━━━━━━━━━━━\u001b[0m\u001b[37m\u001b[0m \u001b[1m0s\u001b[0m 8ms/step - loss: 1593415137191002112.0000 - mean_absolute_error: 567616384.0000 - mean_squared_error: 1593415137191002112.0000 - val_loss: 1616307656476065792.0000 - val_mean_absolute_error: 513112224.0000 - val_mean_squared_error: 1616307656476065792.0000\n",
            "Epoch 29/100\n",
            "\u001b[1m12/12\u001b[0m \u001b[32m━━━━━━━━━━━━━━━━━━━━\u001b[0m\u001b[37m\u001b[0m \u001b[1m0s\u001b[0m 8ms/step - loss: 1371644603941257216.0000 - mean_absolute_error: 502870944.0000 - mean_squared_error: 1371644603941257216.0000 - val_loss: 1616307656476065792.0000 - val_mean_absolute_error: 513112160.0000 - val_mean_squared_error: 1616307656476065792.0000\n",
            "Epoch 30/100\n",
            "\u001b[1m12/12\u001b[0m \u001b[32m━━━━━━━━━━━━━━━━━━━━\u001b[0m\u001b[37m\u001b[0m \u001b[1m0s\u001b[0m 8ms/step - loss: 1599680566762930176.0000 - mean_absolute_error: 579738496.0000 - mean_squared_error: 1599680566762930176.0000 - val_loss: 1616307656476065792.0000 - val_mean_absolute_error: 513112160.0000 - val_mean_squared_error: 1616307656476065792.0000\n",
            "Epoch 31/100\n",
            "\u001b[1m12/12\u001b[0m \u001b[32m━━━━━━━━━━━━━━━━━━━━\u001b[0m\u001b[37m\u001b[0m \u001b[1m0s\u001b[0m 8ms/step - loss: 1792669596449243136.0000 - mean_absolute_error: 588931008.0000 - mean_squared_error: 1792669596449243136.0000 - val_loss: 1616307656476065792.0000 - val_mean_absolute_error: 513112128.0000 - val_mean_squared_error: 1616307656476065792.0000\n",
            "Epoch 32/100\n",
            "\u001b[1m12/12\u001b[0m \u001b[32m━━━━━━━━━━━━━━━━━━━━\u001b[0m\u001b[37m\u001b[0m \u001b[1m0s\u001b[0m 8ms/step - loss: 1849653710704082944.0000 - mean_absolute_error: 612160000.0000 - mean_squared_error: 1849653710704082944.0000 - val_loss: 1616307381598158848.0000 - val_mean_absolute_error: 513112128.0000 - val_mean_squared_error: 1616307381598158848.0000\n",
            "Epoch 33/100\n",
            "\u001b[1m12/12\u001b[0m \u001b[32m━━━━━━━━━━━━━━━━━━━━\u001b[0m\u001b[37m\u001b[0m \u001b[1m0s\u001b[0m 8ms/step - loss: 1927113067930320896.0000 - mean_absolute_error: 628716352.0000 - mean_squared_error: 1927113067930320896.0000 - val_loss: 1616307381598158848.0000 - val_mean_absolute_error: 513112064.0000 - val_mean_squared_error: 1616307381598158848.0000\n",
            "Epoch 34/100\n",
            "\u001b[1m12/12\u001b[0m \u001b[32m━━━━━━━━━━━━━━━━━━━━\u001b[0m\u001b[37m\u001b[0m \u001b[1m0s\u001b[0m 9ms/step - loss: 1585490407133806592.0000 - mean_absolute_error: 527722464.0000 - mean_squared_error: 1585490407133806592.0000 - val_loss: 1616307381598158848.0000 - val_mean_absolute_error: 513112000.0000 - val_mean_squared_error: 1616307381598158848.0000\n",
            "Epoch 35/100\n",
            "\u001b[1m12/12\u001b[0m \u001b[32m━━━━━━━━━━━━━━━━━━━━\u001b[0m\u001b[37m\u001b[0m \u001b[1m0s\u001b[0m 8ms/step - loss: 1775562157593722880.0000 - mean_absolute_error: 582814976.0000 - mean_squared_error: 1775562157593722880.0000 - val_loss: 1616307381598158848.0000 - val_mean_absolute_error: 513111968.0000 - val_mean_squared_error: 1616307381598158848.0000\n",
            "Epoch 36/100\n",
            "\u001b[1m12/12\u001b[0m \u001b[32m━━━━━━━━━━━━━━━━━━━━\u001b[0m\u001b[37m\u001b[0m \u001b[1m0s\u001b[0m 8ms/step - loss: 1596148523097653248.0000 - mean_absolute_error: 558389248.0000 - mean_squared_error: 1596148523097653248.0000 - val_loss: 1616307381598158848.0000 - val_mean_absolute_error: 513111872.0000 - val_mean_squared_error: 1616307381598158848.0000\n",
            "Epoch 37/100\n",
            "\u001b[1m12/12\u001b[0m \u001b[32m━━━━━━━━━━━━━━━━━━━━\u001b[0m\u001b[37m\u001b[0m \u001b[1m0s\u001b[0m 8ms/step - loss: 2008689409007812608.0000 - mean_absolute_error: 643555904.0000 - mean_squared_error: 2008689409007812608.0000 - val_loss: 1616307106720251904.0000 - val_mean_absolute_error: 513111872.0000 - val_mean_squared_error: 1616307106720251904.0000\n",
            "Epoch 38/100\n",
            "\u001b[1m12/12\u001b[0m \u001b[32m━━━━━━━━━━━━━━━━━━━━\u001b[0m\u001b[37m\u001b[0m \u001b[1m0s\u001b[0m 8ms/step - loss: 1640034979964518400.0000 - mean_absolute_error: 550791808.0000 - mean_squared_error: 1640034979964518400.0000 - val_loss: 1616307106720251904.0000 - val_mean_absolute_error: 513111872.0000 - val_mean_squared_error: 1616307106720251904.0000\n",
            "Epoch 39/100\n",
            "\u001b[1m12/12\u001b[0m \u001b[32m━━━━━━━━━━━━━━━━━━━━\u001b[0m\u001b[37m\u001b[0m \u001b[1m0s\u001b[0m 8ms/step - loss: 1992765869297500160.0000 - mean_absolute_error: 633673664.0000 - mean_squared_error: 1992765869297500160.0000 - val_loss: 1616307106720251904.0000 - val_mean_absolute_error: 513111712.0000 - val_mean_squared_error: 1616307106720251904.0000\n",
            "Epoch 40/100\n",
            "\u001b[1m12/12\u001b[0m \u001b[32m━━━━━━━━━━━━━━━━━━━━\u001b[0m\u001b[37m\u001b[0m \u001b[1m0s\u001b[0m 8ms/step - loss: 2121179893889761280.0000 - mean_absolute_error: 655050816.0000 - mean_squared_error: 2121179893889761280.0000 - val_loss: 1616306969281298432.0000 - val_mean_absolute_error: 513111648.0000 - val_mean_squared_error: 1616306969281298432.0000\n",
            "Epoch 41/100\n",
            "\u001b[1m12/12\u001b[0m \u001b[32m━━━━━━━━━━━━━━━━━━━━\u001b[0m\u001b[37m\u001b[0m \u001b[1m0s\u001b[0m 8ms/step - loss: 2051048094467883008.0000 - mean_absolute_error: 658410304.0000 - mean_squared_error: 2051048094467883008.0000 - val_loss: 1616306556964438016.0000 - val_mean_absolute_error: 513111616.0000 - val_mean_squared_error: 1616306556964438016.0000\n",
            "Epoch 42/100\n",
            "\u001b[1m12/12\u001b[0m \u001b[32m━━━━━━━━━━━━━━━━━━━━\u001b[0m\u001b[37m\u001b[0m \u001b[1m0s\u001b[0m 10ms/step - loss: 1850468998576078848.0000 - mean_absolute_error: 614354944.0000 - mean_squared_error: 1850468998576078848.0000 - val_loss: 1616306556964438016.0000 - val_mean_absolute_error: 513111488.0000 - val_mean_squared_error: 1616306556964438016.0000\n",
            "Epoch 43/100\n",
            "\u001b[1m12/12\u001b[0m \u001b[32m━━━━━━━━━━━━━━━━━━━━\u001b[0m\u001b[37m\u001b[0m \u001b[1m0s\u001b[0m 8ms/step - loss: 1685139420837052416.0000 - mean_absolute_error: 599830144.0000 - mean_squared_error: 1685139420837052416.0000 - val_loss: 1616306556964438016.0000 - val_mean_absolute_error: 513111456.0000 - val_mean_squared_error: 1616306556964438016.0000\n",
            "Epoch 44/100\n",
            "\u001b[1m12/12\u001b[0m \u001b[32m━━━━━━━━━━━━━━━━━━━━\u001b[0m\u001b[37m\u001b[0m \u001b[1m0s\u001b[0m 8ms/step - loss: 1321363250008293376.0000 - mean_absolute_error: 488102720.0000 - mean_squared_error: 1321363250008293376.0000 - val_loss: 1616306282086531072.0000 - val_mean_absolute_error: 513111360.0000 - val_mean_squared_error: 1616306282086531072.0000\n",
            "Epoch 45/100\n",
            "\u001b[1m12/12\u001b[0m \u001b[32m━━━━━━━━━━━━━━━━━━━━\u001b[0m\u001b[37m\u001b[0m \u001b[1m0s\u001b[0m 8ms/step - loss: 1628301953945567232.0000 - mean_absolute_error: 562864896.0000 - mean_squared_error: 1628301953945567232.0000 - val_loss: 1616306007208624128.0000 - val_mean_absolute_error: 513111232.0000 - val_mean_squared_error: 1616306007208624128.0000\n",
            "Epoch 46/100\n",
            "\u001b[1m12/12\u001b[0m \u001b[32m━━━━━━━━━━━━━━━━━━━━\u001b[0m\u001b[37m\u001b[0m \u001b[1m0s\u001b[0m 8ms/step - loss: 1584384710753124352.0000 - mean_absolute_error: 518486880.0000 - mean_squared_error: 1584384710753124352.0000 - val_loss: 1616305869769670656.0000 - val_mean_absolute_error: 513111136.0000 - val_mean_squared_error: 1616305869769670656.0000\n",
            "Epoch 47/100\n",
            "\u001b[1m12/12\u001b[0m \u001b[32m━━━━━━━━━━━━━━━━━━━━\u001b[0m\u001b[37m\u001b[0m \u001b[1m0s\u001b[0m 9ms/step - loss: 1491415367627571200.0000 - mean_absolute_error: 541414144.0000 - mean_squared_error: 1491415367627571200.0000 - val_loss: 1616305732330717184.0000 - val_mean_absolute_error: 513111104.0000 - val_mean_squared_error: 1616305732330717184.0000\n",
            "Epoch 48/100\n",
            "\u001b[1m12/12\u001b[0m \u001b[32m━━━━━━━━━━━━━━━━━━━━\u001b[0m\u001b[37m\u001b[0m \u001b[1m0s\u001b[0m 8ms/step - loss: 1691234288667721728.0000 - mean_absolute_error: 545248896.0000 - mean_squared_error: 1691234288667721728.0000 - val_loss: 1616305732330717184.0000 - val_mean_absolute_error: 513110944.0000 - val_mean_squared_error: 1616305732330717184.0000\n",
            "Epoch 49/100\n",
            "\u001b[1m12/12\u001b[0m \u001b[32m━━━━━━━━━━━━━━━━━━━━\u001b[0m\u001b[37m\u001b[0m \u001b[1m0s\u001b[0m 8ms/step - loss: 1432958869864185856.0000 - mean_absolute_error: 533065824.0000 - mean_squared_error: 1432958869864185856.0000 - val_loss: 1616305457452810240.0000 - val_mean_absolute_error: 513110848.0000 - val_mean_squared_error: 1616305457452810240.0000\n",
            "Epoch 50/100\n",
            "\u001b[1m12/12\u001b[0m \u001b[32m━━━━━━━━━━━━━━━━━━━━\u001b[0m\u001b[37m\u001b[0m \u001b[1m0s\u001b[0m 8ms/step - loss: 1791118597859311616.0000 - mean_absolute_error: 616324672.0000 - mean_squared_error: 1791118597859311616.0000 - val_loss: 1616305320013856768.0000 - val_mean_absolute_error: 513110720.0000 - val_mean_squared_error: 1616305320013856768.0000\n",
            "Epoch 51/100\n",
            "\u001b[1m12/12\u001b[0m \u001b[32m━━━━━━━━━━━━━━━━━━━━\u001b[0m\u001b[37m\u001b[0m \u001b[1m0s\u001b[0m 8ms/step - loss: 1656329055093391360.0000 - mean_absolute_error: 600143104.0000 - mean_squared_error: 1656329055093391360.0000 - val_loss: 1616305182574903296.0000 - val_mean_absolute_error: 513110624.0000 - val_mean_squared_error: 1616305182574903296.0000\n",
            "Epoch 52/100\n",
            "\u001b[1m12/12\u001b[0m \u001b[32m━━━━━━━━━━━━━━━━━━━━\u001b[0m\u001b[37m\u001b[0m \u001b[1m0s\u001b[0m 8ms/step - loss: 1604940080634396672.0000 - mean_absolute_error: 563501376.0000 - mean_squared_error: 1604940080634396672.0000 - val_loss: 1616304907696996352.0000 - val_mean_absolute_error: 513110528.0000 - val_mean_squared_error: 1616304907696996352.0000\n",
            "Epoch 53/100\n",
            "\u001b[1m12/12\u001b[0m \u001b[32m━━━━━━━━━━━━━━━━━━━━\u001b[0m\u001b[37m\u001b[0m \u001b[1m0s\u001b[0m 11ms/step - loss: 2319628136246935552.0000 - mean_absolute_error: 723450432.0000 - mean_squared_error: 2319628136246935552.0000 - val_loss: 1616304632819089408.0000 - val_mean_absolute_error: 513110368.0000 - val_mean_squared_error: 1616304632819089408.0000\n",
            "Epoch 54/100\n",
            "\u001b[1m12/12\u001b[0m \u001b[32m━━━━━━━━━━━━━━━━━━━━\u001b[0m\u001b[37m\u001b[0m \u001b[1m0s\u001b[0m 8ms/step - loss: 1730396968703754240.0000 - mean_absolute_error: 586306048.0000 - mean_squared_error: 1730396968703754240.0000 - val_loss: 1616304632819089408.0000 - val_mean_absolute_error: 513110272.0000 - val_mean_squared_error: 1616304632819089408.0000\n",
            "Epoch 55/100\n",
            "\u001b[1m12/12\u001b[0m \u001b[32m━━━━━━━━━━━━━━━━━━━━\u001b[0m\u001b[37m\u001b[0m \u001b[1m0s\u001b[0m 11ms/step - loss: 1613189853816553472.0000 - mean_absolute_error: 545572096.0000 - mean_squared_error: 1613189853816553472.0000 - val_loss: 1616304357941182464.0000 - val_mean_absolute_error: 513110080.0000 - val_mean_squared_error: 1616304357941182464.0000\n",
            "Epoch 56/100\n",
            "\u001b[1m12/12\u001b[0m \u001b[32m━━━━━━━━━━━━━━━━━━━━\u001b[0m\u001b[37m\u001b[0m \u001b[1m0s\u001b[0m 9ms/step - loss: 1670736368269000704.0000 - mean_absolute_error: 552185856.0000 - mean_squared_error: 1670736368269000704.0000 - val_loss: 1616304083063275520.0000 - val_mean_absolute_error: 513109920.0000 - val_mean_squared_error: 1616304083063275520.0000\n",
            "Epoch 57/100\n",
            "\u001b[1m12/12\u001b[0m \u001b[32m━━━━━━━━━━━━━━━━━━━━\u001b[0m\u001b[37m\u001b[0m \u001b[1m0s\u001b[0m 8ms/step - loss: 1747460289655209984.0000 - mean_absolute_error: 574516864.0000 - mean_squared_error: 1747460289655209984.0000 - val_loss: 1616303808185368576.0000 - val_mean_absolute_error: 513109824.0000 - val_mean_squared_error: 1616303808185368576.0000\n",
            "Epoch 58/100\n",
            "\u001b[1m12/12\u001b[0m \u001b[32m━━━━━━━━━━━━━━━━━━━━\u001b[0m\u001b[37m\u001b[0m \u001b[1m0s\u001b[0m 8ms/step - loss: 1572966832254484480.0000 - mean_absolute_error: 563738624.0000 - mean_squared_error: 1572966832254484480.0000 - val_loss: 1616303533307461632.0000 - val_mean_absolute_error: 513109664.0000 - val_mean_squared_error: 1616303533307461632.0000\n",
            "Epoch 59/100\n",
            "\u001b[1m12/12\u001b[0m \u001b[32m━━━━━━━━━━━━━━━━━━━━\u001b[0m\u001b[37m\u001b[0m \u001b[1m0s\u001b[0m 8ms/step - loss: 1665244307688259584.0000 - mean_absolute_error: 552733696.0000 - mean_squared_error: 1665244307688259584.0000 - val_loss: 1616303258429554688.0000 - val_mean_absolute_error: 513109568.0000 - val_mean_squared_error: 1616303258429554688.0000\n",
            "Epoch 60/100\n",
            "\u001b[1m12/12\u001b[0m \u001b[32m━━━━━━━━━━━━━━━━━━━━\u001b[0m\u001b[37m\u001b[0m \u001b[1m0s\u001b[0m 8ms/step - loss: 1374297313182220288.0000 - mean_absolute_error: 497264288.0000 - mean_squared_error: 1374297313182220288.0000 - val_loss: 1616302846112694272.0000 - val_mean_absolute_error: 513109344.0000 - val_mean_squared_error: 1616302846112694272.0000\n",
            "Epoch 61/100\n",
            "\u001b[1m12/12\u001b[0m \u001b[32m━━━━━━━━━━━━━━━━━━━━\u001b[0m\u001b[37m\u001b[0m \u001b[1m0s\u001b[0m 8ms/step - loss: 1966991117719175168.0000 - mean_absolute_error: 662251136.0000 - mean_squared_error: 1966991117719175168.0000 - val_loss: 1616302571234787328.0000 - val_mean_absolute_error: 513109152.0000 - val_mean_squared_error: 1616302571234787328.0000\n",
            "Epoch 62/100\n",
            "\u001b[1m12/12\u001b[0m \u001b[32m━━━━━━━━━━━━━━━━━━━━\u001b[0m\u001b[37m\u001b[0m \u001b[1m0s\u001b[0m 9ms/step - loss: 1647120645210767360.0000 - mean_absolute_error: 585042432.0000 - mean_squared_error: 1647120645210767360.0000 - val_loss: 1616302296356880384.0000 - val_mean_absolute_error: 513108992.0000 - val_mean_squared_error: 1616302296356880384.0000\n",
            "Epoch 63/100\n",
            "\u001b[1m12/12\u001b[0m \u001b[32m━━━━━━━━━━━━━━━━━━━━\u001b[0m\u001b[37m\u001b[0m \u001b[1m0s\u001b[0m 14ms/step - loss: 1514562561293418496.0000 - mean_absolute_error: 555108480.0000 - mean_squared_error: 1514562561293418496.0000 - val_loss: 1616302158917926912.0000 - val_mean_absolute_error: 513108800.0000 - val_mean_squared_error: 1616302158917926912.0000\n",
            "Epoch 64/100\n",
            "\u001b[1m12/12\u001b[0m \u001b[32m━━━━━━━━━━━━━━━━━━━━\u001b[0m\u001b[37m\u001b[0m \u001b[1m0s\u001b[0m 15ms/step - loss: 1439333563404124160.0000 - mean_absolute_error: 530527520.0000 - mean_squared_error: 1439333563404124160.0000 - val_loss: 1616301609162113024.0000 - val_mean_absolute_error: 513108544.0000 - val_mean_squared_error: 1616301609162113024.0000\n",
            "Epoch 65/100\n",
            "\u001b[1m12/12\u001b[0m \u001b[32m━━━━━━━━━━━━━━━━━━━━\u001b[0m\u001b[37m\u001b[0m \u001b[1m0s\u001b[0m 14ms/step - loss: 1671090685891051520.0000 - mean_absolute_error: 602050432.0000 - mean_squared_error: 1671090685891051520.0000 - val_loss: 1616301471723159552.0000 - val_mean_absolute_error: 513108384.0000 - val_mean_squared_error: 1616301471723159552.0000\n",
            "Epoch 66/100\n",
            "\u001b[1m12/12\u001b[0m \u001b[32m━━━━━━━━━━━━━━━━━━━━\u001b[0m\u001b[37m\u001b[0m \u001b[1m0s\u001b[0m 14ms/step - loss: 1297257694519885824.0000 - mean_absolute_error: 485400416.0000 - mean_squared_error: 1297257694519885824.0000 - val_loss: 1616300784528392192.0000 - val_mean_absolute_error: 513108128.0000 - val_mean_squared_error: 1616300784528392192.0000\n",
            "Epoch 67/100\n",
            "\u001b[1m12/12\u001b[0m \u001b[32m━━━━━━━━━━━━━━━━━━━━\u001b[0m\u001b[37m\u001b[0m \u001b[1m0s\u001b[0m 15ms/step - loss: 1824584020957069312.0000 - mean_absolute_error: 614956992.0000 - mean_squared_error: 1824584020957069312.0000 - val_loss: 1616300509650485248.0000 - val_mean_absolute_error: 513107872.0000 - val_mean_squared_error: 1616300509650485248.0000\n",
            "Epoch 68/100\n",
            "\u001b[1m12/12\u001b[0m \u001b[32m━━━━━━━━━━━━━━━━━━━━\u001b[0m\u001b[37m\u001b[0m \u001b[1m0s\u001b[0m 16ms/step - loss: 2537772067831414784.0000 - mean_absolute_error: 760726336.0000 - mean_squared_error: 2537772067831414784.0000 - val_loss: 1616300234772578304.0000 - val_mean_absolute_error: 513107648.0000 - val_mean_squared_error: 1616300234772578304.0000\n",
            "Epoch 69/100\n",
            "\u001b[1m12/12\u001b[0m \u001b[32m━━━━━━━━━━━━━━━━━━━━\u001b[0m\u001b[37m\u001b[0m \u001b[1m0s\u001b[0m 12ms/step - loss: 1556799200962805760.0000 - mean_absolute_error: 561653440.0000 - mean_squared_error: 1556799200962805760.0000 - val_loss: 1616299685016764416.0000 - val_mean_absolute_error: 513107520.0000 - val_mean_squared_error: 1616299685016764416.0000\n",
            "Epoch 70/100\n",
            "\u001b[1m12/12\u001b[0m \u001b[32m━━━━━━━━━━━━━━━━━━━━\u001b[0m\u001b[37m\u001b[0m \u001b[1m0s\u001b[0m 15ms/step - loss: 1458485956448354304.0000 - mean_absolute_error: 516411712.0000 - mean_squared_error: 1458485956448354304.0000 - val_loss: 1616299410138857472.0000 - val_mean_absolute_error: 513107200.0000 - val_mean_squared_error: 1616299410138857472.0000\n",
            "Epoch 71/100\n",
            "\u001b[1m12/12\u001b[0m \u001b[32m━━━━━━━━━━━━━━━━━━━━\u001b[0m\u001b[37m\u001b[0m \u001b[1m0s\u001b[0m 8ms/step - loss: 1910068438676537344.0000 - mean_absolute_error: 639888064.0000 - mean_squared_error: 1910068438676537344.0000 - val_loss: 1616298860383043584.0000 - val_mean_absolute_error: 513107008.0000 - val_mean_squared_error: 1616298860383043584.0000\n",
            "Epoch 72/100\n",
            "\u001b[1m12/12\u001b[0m \u001b[32m━━━━━━━━━━━━━━━━━━━━\u001b[0m\u001b[37m\u001b[0m \u001b[1m0s\u001b[0m 8ms/step - loss: 1640662663665025024.0000 - mean_absolute_error: 568748096.0000 - mean_squared_error: 1640662663665025024.0000 - val_loss: 1616298310627229696.0000 - val_mean_absolute_error: 513106624.0000 - val_mean_squared_error: 1616298310627229696.0000\n",
            "Epoch 73/100\n",
            "\u001b[1m12/12\u001b[0m \u001b[32m━━━━━━━━━━━━━━━━━━━━\u001b[0m\u001b[37m\u001b[0m \u001b[1m0s\u001b[0m 9ms/step - loss: 1813446792801419264.0000 - mean_absolute_error: 584315264.0000 - mean_squared_error: 1813446792801419264.0000 - val_loss: 1616297898310369280.0000 - val_mean_absolute_error: 513106432.0000 - val_mean_squared_error: 1616297898310369280.0000\n",
            "Epoch 74/100\n",
            "\u001b[1m12/12\u001b[0m \u001b[32m━━━━━━━━━━━━━━━━━━━━\u001b[0m\u001b[37m\u001b[0m \u001b[1m0s\u001b[0m 8ms/step - loss: 1423310792769404928.0000 - mean_absolute_error: 507106112.0000 - mean_squared_error: 1423310792769404928.0000 - val_loss: 1616297485993508864.0000 - val_mean_absolute_error: 513106176.0000 - val_mean_squared_error: 1616297485993508864.0000\n",
            "Epoch 75/100\n",
            "\u001b[1m12/12\u001b[0m \u001b[32m━━━━━━━━━━━━━━━━━━━━\u001b[0m\u001b[37m\u001b[0m \u001b[1m0s\u001b[0m 15ms/step - loss: 1822384173067796480.0000 - mean_absolute_error: 588879360.0000 - mean_squared_error: 1822384173067796480.0000 - val_loss: 1616297073676648448.0000 - val_mean_absolute_error: 513105856.0000 - val_mean_squared_error: 1616297073676648448.0000\n",
            "Epoch 76/100\n",
            "\u001b[1m12/12\u001b[0m \u001b[32m━━━━━━━━━━━━━━━━━━━━\u001b[0m\u001b[37m\u001b[0m \u001b[1m0s\u001b[0m 19ms/step - loss: 1707637078008791040.0000 - mean_absolute_error: 583815680.0000 - mean_squared_error: 1707637078008791040.0000 - val_loss: 1616296249042927616.0000 - val_mean_absolute_error: 513105568.0000 - val_mean_squared_error: 1616296249042927616.0000\n",
            "Epoch 77/100\n",
            "\u001b[1m12/12\u001b[0m \u001b[32m━━━━━━━━━━━━━━━━━━━━\u001b[0m\u001b[37m\u001b[0m \u001b[1m0s\u001b[0m 14ms/step - loss: 2162495417692979200.0000 - mean_absolute_error: 662490240.0000 - mean_squared_error: 2162495417692979200.0000 - val_loss: 1616295699287113728.0000 - val_mean_absolute_error: 513105248.0000 - val_mean_squared_error: 1616295699287113728.0000\n",
            "Epoch 78/100\n",
            "\u001b[1m12/12\u001b[0m \u001b[32m━━━━━━━━━━━━━━━━━━━━\u001b[0m\u001b[37m\u001b[0m \u001b[1m0s\u001b[0m 16ms/step - loss: 1315108815552643072.0000 - mean_absolute_error: 473383360.0000 - mean_squared_error: 1315108815552643072.0000 - val_loss: 1616295012092346368.0000 - val_mean_absolute_error: 513104960.0000 - val_mean_squared_error: 1616295012092346368.0000\n",
            "Epoch 79/100\n",
            "\u001b[1m12/12\u001b[0m \u001b[32m━━━━━━━━━━━━━━━━━━━━\u001b[0m\u001b[37m\u001b[0m \u001b[1m0s\u001b[0m 16ms/step - loss: 1843300045324025856.0000 - mean_absolute_error: 651978624.0000 - mean_squared_error: 1843300045324025856.0000 - val_loss: 1616294599775485952.0000 - val_mean_absolute_error: 513104576.0000 - val_mean_squared_error: 1616294599775485952.0000\n",
            "Epoch 80/100\n",
            "\u001b[1m12/12\u001b[0m \u001b[32m━━━━━━━━━━━━━━━━━━━━\u001b[0m\u001b[37m\u001b[0m \u001b[1m0s\u001b[0m 20ms/step - loss: 1803016000866615296.0000 - mean_absolute_error: 603033216.0000 - mean_squared_error: 1803016000866615296.0000 - val_loss: 1616294050019672064.0000 - val_mean_absolute_error: 513104288.0000 - val_mean_squared_error: 1616294050019672064.0000\n",
            "Epoch 81/100\n",
            "\u001b[1m12/12\u001b[0m \u001b[32m━━━━━━━━━━━━━━━━━━━━\u001b[0m\u001b[37m\u001b[0m \u001b[1m0s\u001b[0m 18ms/step - loss: 1880741027589914624.0000 - mean_absolute_error: 597490048.0000 - mean_squared_error: 1880741027589914624.0000 - val_loss: 1616293500263858176.0000 - val_mean_absolute_error: 513103936.0000 - val_mean_squared_error: 1616293500263858176.0000\n",
            "Epoch 82/100\n",
            "\u001b[1m12/12\u001b[0m \u001b[32m━━━━━━━━━━━━━━━━━━━━\u001b[0m\u001b[37m\u001b[0m \u001b[1m0s\u001b[0m 16ms/step - loss: 1785912272862838784.0000 - mean_absolute_error: 577636096.0000 - mean_squared_error: 1785912272862838784.0000 - val_loss: 1616292675630137344.0000 - val_mean_absolute_error: 513103520.0000 - val_mean_squared_error: 1616292675630137344.0000\n",
            "Epoch 83/100\n",
            "\u001b[1m12/12\u001b[0m \u001b[32m━━━━━━━━━━━━━━━━━━━━\u001b[0m\u001b[37m\u001b[0m \u001b[1m1s\u001b[0m 34ms/step - loss: 1817893630141005824.0000 - mean_absolute_error: 584991872.0000 - mean_squared_error: 1817893630141005824.0000 - val_loss: 1616291988435369984.0000 - val_mean_absolute_error: 513103168.0000 - val_mean_squared_error: 1616291988435369984.0000\n",
            "Epoch 84/100\n",
            "\u001b[1m12/12\u001b[0m \u001b[32m━━━━━━━━━━━━━━━━━━━━\u001b[0m\u001b[37m\u001b[0m \u001b[1m0s\u001b[0m 8ms/step - loss: 1891100901024727040.0000 - mean_absolute_error: 656668032.0000 - mean_squared_error: 1891100901024727040.0000 - val_loss: 1616291163801649152.0000 - val_mean_absolute_error: 513102784.0000 - val_mean_squared_error: 1616291163801649152.0000\n",
            "Epoch 85/100\n",
            "\u001b[1m12/12\u001b[0m \u001b[32m━━━━━━━━━━━━━━━━━━━━\u001b[0m\u001b[37m\u001b[0m \u001b[1m0s\u001b[0m 8ms/step - loss: 1581271718456983552.0000 - mean_absolute_error: 573610816.0000 - mean_squared_error: 1581271718456983552.0000 - val_loss: 1616290614045835264.0000 - val_mean_absolute_error: 513102272.0000 - val_mean_squared_error: 1616290614045835264.0000\n",
            "Epoch 86/100\n",
            "\u001b[1m12/12\u001b[0m \u001b[32m━━━━━━━━━━━━━━━━━━━━\u001b[0m\u001b[37m\u001b[0m \u001b[1m0s\u001b[0m 11ms/step - loss: 1972058904250548224.0000 - mean_absolute_error: 629350016.0000 - mean_squared_error: 1972058904250548224.0000 - val_loss: 1616290064290021376.0000 - val_mean_absolute_error: 513101984.0000 - val_mean_squared_error: 1616290064290021376.0000\n",
            "Epoch 87/100\n",
            "\u001b[1m12/12\u001b[0m \u001b[32m━━━━━━━━━━━━━━━━━━━━\u001b[0m\u001b[37m\u001b[0m \u001b[1m0s\u001b[0m 8ms/step - loss: 1572220538737131520.0000 - mean_absolute_error: 582907136.0000 - mean_squared_error: 1572220538737131520.0000 - val_loss: 1616289239656300544.0000 - val_mean_absolute_error: 513101632.0000 - val_mean_squared_error: 1616289239656300544.0000\n",
            "Epoch 88/100\n",
            "\u001b[1m12/12\u001b[0m \u001b[32m━━━━━━━━━━━━━━━━━━━━\u001b[0m\u001b[37m\u001b[0m \u001b[1m0s\u001b[0m 8ms/step - loss: 1850367156311556096.0000 - mean_absolute_error: 595167296.0000 - mean_squared_error: 1850367156311556096.0000 - val_loss: 1616288415022579712.0000 - val_mean_absolute_error: 513101216.0000 - val_mean_squared_error: 1616288415022579712.0000\n",
            "Epoch 89/100\n",
            "\u001b[1m12/12\u001b[0m \u001b[32m━━━━━━━━━━━━━━━━━━━━\u001b[0m\u001b[37m\u001b[0m \u001b[1m0s\u001b[0m 8ms/step - loss: 1391366131691814912.0000 - mean_absolute_error: 507812736.0000 - mean_squared_error: 1391366131691814912.0000 - val_loss: 1616287590388858880.0000 - val_mean_absolute_error: 513100704.0000 - val_mean_squared_error: 1616287590388858880.0000\n",
            "Epoch 90/100\n",
            "\u001b[1m12/12\u001b[0m \u001b[32m━━━━━━━━━━━━━━━━━━━━\u001b[0m\u001b[37m\u001b[0m \u001b[1m0s\u001b[0m 8ms/step - loss: 1755226964915912704.0000 - mean_absolute_error: 601728384.0000 - mean_squared_error: 1755226964915912704.0000 - val_loss: 1616286628316184576.0000 - val_mean_absolute_error: 513100288.0000 - val_mean_squared_error: 1616286628316184576.0000\n",
            "Epoch 91/100\n",
            "\u001b[1m12/12\u001b[0m \u001b[32m━━━━━━━━━━━━━━━━━━━━\u001b[0m\u001b[37m\u001b[0m \u001b[1m0s\u001b[0m 8ms/step - loss: 1518470225618534400.0000 - mean_absolute_error: 557026816.0000 - mean_squared_error: 1518470225618534400.0000 - val_loss: 1616286078560370688.0000 - val_mean_absolute_error: 513099968.0000 - val_mean_squared_error: 1616286078560370688.0000\n",
            "Epoch 92/100\n",
            "\u001b[1m12/12\u001b[0m \u001b[32m━━━━━━━━━━━━━━━━━━━━\u001b[0m\u001b[37m\u001b[0m \u001b[1m0s\u001b[0m 8ms/step - loss: 1357832263995228160.0000 - mean_absolute_error: 497535520.0000 - mean_squared_error: 1357832263995228160.0000 - val_loss: 1616284979048742912.0000 - val_mean_absolute_error: 513099456.0000 - val_mean_squared_error: 1616284979048742912.0000\n",
            "Epoch 93/100\n",
            "\u001b[1m12/12\u001b[0m \u001b[32m━━━━━━━━━━━━━━━━━━━━\u001b[0m\u001b[37m\u001b[0m \u001b[1m0s\u001b[0m 8ms/step - loss: 1986317508478500864.0000 - mean_absolute_error: 618127808.0000 - mean_squared_error: 1986317508478500864.0000 - val_loss: 1616284016976068608.0000 - val_mean_absolute_error: 513099008.0000 - val_mean_squared_error: 1616284016976068608.0000\n",
            "Epoch 94/100\n",
            "\u001b[1m12/12\u001b[0m \u001b[32m━━━━━━━━━━━━━━━━━━━━\u001b[0m\u001b[37m\u001b[0m \u001b[1m0s\u001b[0m 8ms/step - loss: 1541986167996547072.0000 - mean_absolute_error: 553122304.0000 - mean_squared_error: 1541986167996547072.0000 - val_loss: 1616283054903394304.0000 - val_mean_absolute_error: 513098592.0000 - val_mean_squared_error: 1616283054903394304.0000\n",
            "Epoch 95/100\n",
            "\u001b[1m12/12\u001b[0m \u001b[32m━━━━━━━━━━━━━━━━━━━━\u001b[0m\u001b[37m\u001b[0m \u001b[1m0s\u001b[0m 8ms/step - loss: 1435140575811600384.0000 - mean_absolute_error: 517461280.0000 - mean_squared_error: 1435140575811600384.0000 - val_loss: 1616282092830720000.0000 - val_mean_absolute_error: 513098144.0000 - val_mean_squared_error: 1616282092830720000.0000\n",
            "Epoch 96/100\n",
            "\u001b[1m12/12\u001b[0m \u001b[32m━━━━━━━━━━━━━━━━━━━━\u001b[0m\u001b[37m\u001b[0m \u001b[1m0s\u001b[0m 8ms/step - loss: 1566931750368575488.0000 - mean_absolute_error: 545835008.0000 - mean_squared_error: 1566931750368575488.0000 - val_loss: 1616281268196999168.0000 - val_mean_absolute_error: 513097664.0000 - val_mean_squared_error: 1616281268196999168.0000\n",
            "Epoch 97/100\n",
            "\u001b[1m12/12\u001b[0m \u001b[32m━━━━━━━━━━━━━━━━━━━━\u001b[0m\u001b[37m\u001b[0m \u001b[1m0s\u001b[0m 9ms/step - loss: 1785946220284346368.0000 - mean_absolute_error: 583201344.0000 - mean_squared_error: 1785946220284346368.0000 - val_loss: 1616280168685371392.0000 - val_mean_absolute_error: 513097120.0000 - val_mean_squared_error: 1616280168685371392.0000\n",
            "Epoch 98/100\n",
            "\u001b[1m12/12\u001b[0m \u001b[32m━━━━━━━━━━━━━━━━━━━━\u001b[0m\u001b[37m\u001b[0m \u001b[1m0s\u001b[0m 9ms/step - loss: 1601916148780105728.0000 - mean_absolute_error: 544881216.0000 - mean_squared_error: 1601916148780105728.0000 - val_loss: 1616279069173743616.0000 - val_mean_absolute_error: 513096704.0000 - val_mean_squared_error: 1616279069173743616.0000\n",
            "Epoch 99/100\n",
            "\u001b[1m12/12\u001b[0m \u001b[32m━━━━━━━━━━━━━━━━━━━━\u001b[0m\u001b[37m\u001b[0m \u001b[1m0s\u001b[0m 12ms/step - loss: 1704840057866682368.0000 - mean_absolute_error: 584445120.0000 - mean_squared_error: 1704840057866682368.0000 - val_loss: 1616277969662115840.0000 - val_mean_absolute_error: 513096192.0000 - val_mean_squared_error: 1616277969662115840.0000\n",
            "Epoch 100/100\n",
            "\u001b[1m12/12\u001b[0m \u001b[32m━━━━━━━━━━━━━━━━━━━━\u001b[0m\u001b[37m\u001b[0m \u001b[1m0s\u001b[0m 11ms/step - loss: 1403503365672927232.0000 - mean_absolute_error: 515645152.0000 - mean_squared_error: 1403503365672927232.0000 - val_loss: 1616276870150488064.0000 - val_mean_absolute_error: 513095584.0000 - val_mean_squared_error: 1616276870150488064.0000\n"
          ]
        }
      ]
    },
    {
      "cell_type": "code",
      "source": [
        "yp_train_1 = m1.predict(X_train)\n",
        "yp_test_1 = m1.predict(X_test)\n",
        "yp_train_2 = m2.predict(X_train)\n",
        "yp_test_2 = m2.predict(X_test)\n",
        "yp_train_3 = m3.predict(X_train)\n",
        "yp_test_3 = m3.predict(X_test)"
      ],
      "metadata": {
        "colab": {
          "base_uri": "https://localhost:8080/"
        },
        "id": "-E8k-IZB72pB",
        "outputId": "1a0e9a29-0678-48d4-ca08-3241a095e5c9"
      },
      "execution_count": null,
      "outputs": [
        {
          "output_type": "stream",
          "name": "stdout",
          "text": [
            "\u001b[1m13/13\u001b[0m \u001b[32m━━━━━━━━━━━━━━━━━━━━\u001b[0m\u001b[37m\u001b[0m \u001b[1m0s\u001b[0m 6ms/step\n",
            "\u001b[1m4/4\u001b[0m \u001b[32m━━━━━━━━━━━━━━━━━━━━\u001b[0m\u001b[37m\u001b[0m \u001b[1m0s\u001b[0m 8ms/step \n",
            "\u001b[1m13/13\u001b[0m \u001b[32m━━━━━━━━━━━━━━━━━━━━\u001b[0m\u001b[37m\u001b[0m \u001b[1m0s\u001b[0m 7ms/step\n",
            "\u001b[1m4/4\u001b[0m \u001b[32m━━━━━━━━━━━━━━━━━━━━\u001b[0m\u001b[37m\u001b[0m \u001b[1m0s\u001b[0m 8ms/step \n",
            "\u001b[1m13/13\u001b[0m \u001b[32m━━━━━━━━━━━━━━━━━━━━\u001b[0m\u001b[37m\u001b[0m \u001b[1m0s\u001b[0m 7ms/step\n",
            "\u001b[1m4/4\u001b[0m \u001b[32m━━━━━━━━━━━━━━━━━━━━\u001b[0m\u001b[37m\u001b[0m \u001b[1m0s\u001b[0m 8ms/step \n"
          ]
        }
      ]
    },
    {
      "cell_type": "markdown",
      "source": [
        "### Prediction Results"
      ],
      "metadata": {
        "id": "ZtGqGL8SoN_c"
      }
    },
    {
      "cell_type": "code",
      "source": [
        "\n",
        "plt.plot(history_1.history['loss'], label = 'training loss', color ='k')\n",
        "plt.plot(history_1.history['val_loss'], label ='valiodation loss', color = 'r')\n",
        "plt.title('Loss vs epoch')\n",
        "plt.xlabel('epoch')\n",
        "plt.ylabel('loss')\n",
        "plt.show()\n",
        "\n",
        "plt.plot(history_2.history['loss'], label = 'training loss', color ='k')\n",
        "plt.plot(history_2.history['val_loss'], label ='valiodation loss', color = 'r')\n",
        "plt.title('Loss vs epoch')\n",
        "plt.xlabel('epoch')\n",
        "plt.ylabel('loss')\n",
        "plt.show()\n",
        "\n",
        "plt.plot(history_3.history['loss'], label = 'training loss', color ='k')\n",
        "plt.plot(history_3.history['val_loss'], label ='valiodation loss', color = 'r')\n",
        "plt.title('Loss vs epoch')\n",
        "plt.xlabel('epoch')\n",
        "plt.ylabel('loss')\n",
        "plt.show()"
      ],
      "metadata": {
        "colab": {
          "base_uri": "https://localhost:8080/",
          "height": 1000
        },
        "id": "pB9NPUYkZlur",
        "outputId": "4e6ed30d-d359-4dda-819a-e1d3979d12b5"
      },
      "execution_count": null,
      "outputs": [
        {
          "output_type": "display_data",
          "data": {
            "text/plain": [
              "<Figure size 640x480 with 1 Axes>"
            ],
            "image/png": "[encoded data removed]"
          },
          "metadata": {}
        },
        {
          "output_type": "display_data",
          "data": {
            "text/plain": [
              "<Figure size 640x480 with 1 Axes>"
            ],
            "image/png": "[encoded data removed]"
          },
          "metadata": {}
        },
        {
          "output_type": "display_data",
          "data": {
            "text/plain": [
              "<Figure size 640x480 with 1 Axes>"
            ],
            "image/png": "[encoded data removed]"
          },
          "metadata": {}
        }
      ]
    },
    {
      "cell_type": "code",
      "source": [],
      "metadata": {
        "id": "IEPAR2v60QOf"
      },
      "execution_count": null,
      "outputs": []
    },
    {
      "cell_type": "markdown",
      "source": [],
      "metadata": {
        "id": "sgkvBfRK0kSp"
      }
    }
  ]
}