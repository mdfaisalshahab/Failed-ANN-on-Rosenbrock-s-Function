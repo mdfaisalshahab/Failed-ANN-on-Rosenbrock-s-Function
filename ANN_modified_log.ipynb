{
  "nbformat": 4,
  "nbformat_minor": 0,
  "metadata": {
    "colab": {
      "provenance": []
    },
    "kernelspec": {
      "name": "python3",
      "display_name": "Python 3"
    },
    "language_info": {
      "name": "python"
    }
  },
  "cells": [
    {
      "cell_type": "markdown",
      "source": [
        "# Rosenbrock Function\n",
        "### Importing libraries"
      ],
      "metadata": {
        "id": "C_Vg0vbmnrJR"
      }
    },
    {
      "cell_type": "code",
      "execution_count": null,
      "metadata": {
        "id": "6rQelDC5tKLD"
      },
      "outputs": [],
      "source": [
        "import numpy as np\n",
        "import tensorflow as tf\n",
        "import matplotlib.pyplot as plt\n",
        "from sklearn.model_selection import train_test_split\n",
        "from tensorflow import keras\n",
        "from sklearn.preprocessing import StandardScaler\n",
        "from sklearn.metrics import r2_score\n",
        "from tensorflow.keras.models import Sequential\n",
        "from tensorflow.keras.layers import Dense\n",
        "from tensorflow.keras.optimizers import Adam\n",
        "from tensorflow.keras.optimizers import RMSprop"
      ]
    },
    {
      "cell_type": "markdown",
      "source": [
        "### Modified Rosenbrock with log function"
      ],
      "metadata": {
        "id": "vx-3euwO5sc-"
      }
    },
    {
      "cell_type": "code",
      "source": [
        "x = np.random.uniform(-5.12, 5.12, 500).reshape(-1,1)\n",
        "y = np.random.uniform(-5.12, 5.12, 500).reshape(-1,1)\n",
        "f = (100 * (y-x**2)**2 + (1 - x)**2)**2  ## Rosenbrock Function highly steep\n",
        "f = np.log(f) ## log to reduce steepness\n",
        "X = np.hstack((x,y))"
      ],
      "metadata": {
        "id": "IzPteKZkOPOw"
      },
      "execution_count": null,
      "outputs": []
    },
    {
      "cell_type": "markdown",
      "source": [
        "### Train Test Split"
      ],
      "metadata": {
        "id": "r0syf4hRn8rz"
      }
    },
    {
      "cell_type": "code",
      "source": [
        "X_train, X_test, y_train, y_test = train_test_split(X,f, test_size = 0.2, random_state=0)"
      ],
      "metadata": {
        "id": "uE5lofRfOWzN"
      },
      "execution_count": null,
      "outputs": []
    },
    {
      "cell_type": "code",
      "source": [
        "scale = StandardScaler()\n",
        "X_train = scale.fit_transform(X_train)\n",
        "X_test = scale.transform(X_test)"
      ],
      "metadata": {
        "id": "HeUraOsPUHBX"
      },
      "execution_count": null,
      "outputs": []
    },
    {
      "cell_type": "markdown",
      "source": [
        "### Models with different activation function"
      ],
      "metadata": {
        "id": "HF4fGozooCds"
      }
    },
    {
      "cell_type": "code",
      "source": [
        "def model_1():\n",
        "  model_1 = Sequential()\n",
        "  model_1.add(Dense(units = 32, activation = 'relu',\n",
        "                    input_shape = [X.shape[1]]))\n",
        "  model_1.add(Dense(units = 32, activation = 'relu'))\n",
        "  model_1.add(Dense(units = 32, activation = 'relu'))\n",
        "  model_1.add(Dense(units = 1))\n",
        "  optimizers = RMSprop(learning_rate = 0.001)\n",
        "  model_1.compile(loss = 'mean_squared_error', optimizer = 'RMSprop',\n",
        "                  metrics = ['mean_squared_error','mean_absolute_error'])\n",
        "  return model_1\n",
        "def model_2():\n",
        "  model_2 = Sequential()\n",
        "  model_2.add(Dense(units = 32, activation = 'tanh',\n",
        "                    input_shape = [X.shape[1]]))\n",
        "  model_2.add(Dense(units = 32, activation = 'tanh'))\n",
        "  model_2.add(Dense(units = 32, activation = 'tanh'))\n",
        "  model_2.add(Dense(units = 1))\n",
        "  optimizers = RMSprop(learning_rate = 0.001)\n",
        "  model_2.compile(loss = 'mean_squared_error', optimizer = 'RMSprop',\n",
        "                  metrics = ['mean_squared_error','mean_absolute_error'])\n",
        "  return model_2\n",
        "def model_3():\n",
        "  model_3 = Sequential()\n",
        "  model_3.add(Dense(units = 32, activation = 'relu',\n",
        "                    input_shape = [X.shape[1]]))\n",
        "  model_3.add(Dense(units = 32, activation = 'tanh'))\n",
        "  model_3.add(Dense(units = 32, activation = 'relu'))\n",
        "  model_3.add(Dense(units = 1))\n",
        "  optimizers = RMSprop(learning_rate = 0.001)\n",
        "  model_3.compile(loss = 'mean_squared_error', optimizer = 'RMSprop',\n",
        "                  metrics = ['mean_squared_error','mean_absolute_error'])\n",
        "  return model_3\n"
      ],
      "metadata": {
        "id": "enV25wWQXkhm"
      },
      "execution_count": null,
      "outputs": []
    },
    {
      "cell_type": "code",
      "source": [
        "m1 = model_1()\n",
        "m1.summary()\n",
        "m2 = model_2()\n",
        "m2.summary()\n",
        "m3 = model_3()\n",
        "m3.summary()"
      ],
      "metadata": {
        "colab": {
          "base_uri": "https://localhost:8080/",
          "height": 837
        },
        "id": "1CUVPBCjauOu",
        "outputId": "7d45f172-cb6a-4791-8aa5-70d579541420"
      },
      "execution_count": null,
      "outputs": [
        {
          "output_type": "stream",
          "name": "stderr",
          "text": [
            "/usr/local/lib/python3.11/dist-packages/keras/src/layers/core/dense.py:87: UserWarning: Do not pass an `input_shape`/`input_dim` argument to a layer. When using Sequential models, prefer using an `Input(shape)` object as the first layer in the model instead.\n",
            "  super().__init__(activity_regularizer=activity_regularizer, **kwargs)\n"
          ]
        },
        {
          "output_type": "display_data",
          "data": {
            "text/plain": [
              "\u001b[1mModel: \"sequential_6\"\u001b[0m\n"
            ],
            "text/html": [
              "<pre style=\"white-space:pre;overflow-x:auto;line-height:normal;font-family:Menlo,'DejaVu Sans Mono',consolas,'Courier New',monospace\"><span style=\"font-weight: bold\">Model: \"sequential_6\"</span>\n",
              "</pre>\n"
            ]
          },
          "metadata": {}
        },
        {
          "output_type": "display_data",
          "data": {
            "text/plain": [
              "┏━━━━━━━━━━━━━━━━━━━━━━━━━━━━━━━━━┳━━━━━━━━━━━━━━━━━━━━━━━━┳━━━━━━━━━━━━━━━┓\n",
              "┃\u001b[1m \u001b[0m\u001b[1mLayer (type)                   \u001b[0m\u001b[1m \u001b[0m┃\u001b[1m \u001b[0m\u001b[1mOutput Shape          \u001b[0m\u001b[1m \u001b[0m┃\u001b[1m \u001b[0m\u001b[1m      Param #\u001b[0m\u001b[1m \u001b[0m┃\n",
              "┡━━━━━━━━━━━━━━━━━━━━━━━━━━━━━━━━━╇━━━━━━━━━━━━━━━━━━━━━━━━╇━━━━━━━━━━━━━━━┩\n",
              "│ dense_24 (\u001b[38;5;33mDense\u001b[0m)                │ (\u001b[38;5;45mNone\u001b[0m, \u001b[38;5;34m32\u001b[0m)             │            \u001b[38;5;34m96\u001b[0m │\n",
              "├─────────────────────────────────┼────────────────────────┼───────────────┤\n",
              "│ dense_25 (\u001b[38;5;33mDense\u001b[0m)                │ (\u001b[38;5;45mNone\u001b[0m, \u001b[38;5;34m32\u001b[0m)             │         \u001b[38;5;34m1,056\u001b[0m │\n",
              "├─────────────────────────────────┼────────────────────────┼───────────────┤\n",
              "│ dense_26 (\u001b[38;5;33mDense\u001b[0m)                │ (\u001b[38;5;45mNone\u001b[0m, \u001b[38;5;34m32\u001b[0m)             │         \u001b[38;5;34m1,056\u001b[0m │\n",
              "├─────────────────────────────────┼────────────────────────┼───────────────┤\n",
              "│ dense_27 (\u001b[38;5;33mDense\u001b[0m)                │ (\u001b[38;5;45mNone\u001b[0m, \u001b[38;5;34m1\u001b[0m)              │            \u001b[38;5;34m33\u001b[0m │\n",
              "└─────────────────────────────────┴────────────────────────┴───────────────┘\n"
            ],
            "text/html": [
              "<pre style=\"white-space:pre;overflow-x:auto;line-height:normal;font-family:Menlo,'DejaVu Sans Mono',consolas,'Courier New',monospace\">┏━━━━━━━━━━━━━━━━━━━━━━━━━━━━━━━━━┳━━━━━━━━━━━━━━━━━━━━━━━━┳━━━━━━━━━━━━━━━┓\n",
              "┃<span style=\"font-weight: bold\"> Layer (type)                    </span>┃<span style=\"font-weight: bold\"> Output Shape           </span>┃<span style=\"font-weight: bold\">       Param # </span>┃\n",
              "┡━━━━━━━━━━━━━━━━━━━━━━━━━━━━━━━━━╇━━━━━━━━━━━━━━━━━━━━━━━━╇━━━━━━━━━━━━━━━┩\n",
              "│ dense_24 (<span style=\"color: #0087ff; text-decoration-color: #0087ff\">Dense</span>)                │ (<span style=\"color: #00d7ff; text-decoration-color: #00d7ff\">None</span>, <span style=\"color: #00af00; text-decoration-color: #00af00\">32</span>)             │            <span style=\"color: #00af00; text-decoration-color: #00af00\">96</span> │\n",
              "├─────────────────────────────────┼────────────────────────┼───────────────┤\n",
              "│ dense_25 (<span style=\"color: #0087ff; text-decoration-color: #0087ff\">Dense</span>)                │ (<span style=\"color: #00d7ff; text-decoration-color: #00d7ff\">None</span>, <span style=\"color: #00af00; text-decoration-color: #00af00\">32</span>)             │         <span style=\"color: #00af00; text-decoration-color: #00af00\">1,056</span> │\n",
              "├─────────────────────────────────┼────────────────────────┼───────────────┤\n",
              "│ dense_26 (<span style=\"color: #0087ff; text-decoration-color: #0087ff\">Dense</span>)                │ (<span style=\"color: #00d7ff; text-decoration-color: #00d7ff\">None</span>, <span style=\"color: #00af00; text-decoration-color: #00af00\">32</span>)             │         <span style=\"color: #00af00; text-decoration-color: #00af00\">1,056</span> │\n",
              "├─────────────────────────────────┼────────────────────────┼───────────────┤\n",
              "│ dense_27 (<span style=\"color: #0087ff; text-decoration-color: #0087ff\">Dense</span>)                │ (<span style=\"color: #00d7ff; text-decoration-color: #00d7ff\">None</span>, <span style=\"color: #00af00; text-decoration-color: #00af00\">1</span>)              │            <span style=\"color: #00af00; text-decoration-color: #00af00\">33</span> │\n",
              "└─────────────────────────────────┴────────────────────────┴───────────────┘\n",
              "</pre>\n"
            ]
          },
          "metadata": {}
        },
        {
          "output_type": "display_data",
          "data": {
            "text/plain": [
              "\u001b[1m Total params: \u001b[0m\u001b[38;5;34m2,241\u001b[0m (8.75 KB)\n"
            ],
            "text/html": [
              "<pre style=\"white-space:pre;overflow-x:auto;line-height:normal;font-family:Menlo,'DejaVu Sans Mono',consolas,'Courier New',monospace\"><span style=\"font-weight: bold\"> Total params: </span><span style=\"color: #00af00; text-decoration-color: #00af00\">2,241</span> (8.75 KB)\n",
              "</pre>\n"
            ]
          },
          "metadata": {}
        },
        {
          "output_type": "display_data",
          "data": {
            "text/plain": [
              "\u001b[1m Trainable params: \u001b[0m\u001b[38;5;34m2,241\u001b[0m (8.75 KB)\n"
            ],
            "text/html": [
              "<pre style=\"white-space:pre;overflow-x:auto;line-height:normal;font-family:Menlo,'DejaVu Sans Mono',consolas,'Courier New',monospace\"><span style=\"font-weight: bold\"> Trainable params: </span><span style=\"color: #00af00; text-decoration-color: #00af00\">2,241</span> (8.75 KB)\n",
              "</pre>\n"
            ]
          },
          "metadata": {}
        },
        {
          "output_type": "display_data",
          "data": {
            "text/plain": [
              "\u001b[1m Non-trainable params: \u001b[0m\u001b[38;5;34m0\u001b[0m (0.00 B)\n"
            ],
            "text/html": [
              "<pre style=\"white-space:pre;overflow-x:auto;line-height:normal;font-family:Menlo,'DejaVu Sans Mono',consolas,'Courier New',monospace\"><span style=\"font-weight: bold\"> Non-trainable params: </span><span style=\"color: #00af00; text-decoration-color: #00af00\">0</span> (0.00 B)\n",
              "</pre>\n"
            ]
          },
          "metadata": {}
        },
        {
          "output_type": "display_data",
          "data": {
            "text/plain": [
              "\u001b[1mModel: \"sequential_7\"\u001b[0m\n"
            ],
            "text/html": [
              "<pre style=\"white-space:pre;overflow-x:auto;line-height:normal;font-family:Menlo,'DejaVu Sans Mono',consolas,'Courier New',monospace\"><span style=\"font-weight: bold\">Model: \"sequential_7\"</span>\n",
              "</pre>\n"
            ]
          },
          "metadata": {}
        },
        {
          "output_type": "display_data",
          "data": {
            "text/plain": [
              "┏━━━━━━━━━━━━━━━━━━━━━━━━━━━━━━━━━┳━━━━━━━━━━━━━━━━━━━━━━━━┳━━━━━━━━━━━━━━━┓\n",
              "┃\u001b[1m \u001b[0m\u001b[1mLayer (type)                   \u001b[0m\u001b[1m \u001b[0m┃\u001b[1m \u001b[0m\u001b[1mOutput Shape          \u001b[0m\u001b[1m \u001b[0m┃\u001b[1m \u001b[0m\u001b[1m      Param #\u001b[0m\u001b[1m \u001b[0m┃\n",
              "┡━━━━━━━━━━━━━━━━━━━━━━━━━━━━━━━━━╇━━━━━━━━━━━━━━━━━━━━━━━━╇━━━━━━━━━━━━━━━┩\n",
              "│ dense_28 (\u001b[38;5;33mDense\u001b[0m)                │ (\u001b[38;5;45mNone\u001b[0m, \u001b[38;5;34m32\u001b[0m)             │            \u001b[38;5;34m96\u001b[0m │\n",
              "├─────────────────────────────────┼────────────────────────┼───────────────┤\n",
              "│ dense_29 (\u001b[38;5;33mDense\u001b[0m)                │ (\u001b[38;5;45mNone\u001b[0m, \u001b[38;5;34m32\u001b[0m)             │         \u001b[38;5;34m1,056\u001b[0m │\n",
              "├─────────────────────────────────┼────────────────────────┼───────────────┤\n",
              "│ dense_30 (\u001b[38;5;33mDense\u001b[0m)                │ (\u001b[38;5;45mNone\u001b[0m, \u001b[38;5;34m32\u001b[0m)             │         \u001b[38;5;34m1,056\u001b[0m │\n",
              "├─────────────────────────────────┼────────────────────────┼───────────────┤\n",
              "│ dense_31 (\u001b[38;5;33mDense\u001b[0m)                │ (\u001b[38;5;45mNone\u001b[0m, \u001b[38;5;34m1\u001b[0m)              │            \u001b[38;5;34m33\u001b[0m │\n",
              "└─────────────────────────────────┴────────────────────────┴───────────────┘\n"
            ],
            "text/html": [
              "<pre style=\"white-space:pre;overflow-x:auto;line-height:normal;font-family:Menlo,'DejaVu Sans Mono',consolas,'Courier New',monospace\">┏━━━━━━━━━━━━━━━━━━━━━━━━━━━━━━━━━┳━━━━━━━━━━━━━━━━━━━━━━━━┳━━━━━━━━━━━━━━━┓\n",
              "┃<span style=\"font-weight: bold\"> Layer (type)                    </span>┃<span style=\"font-weight: bold\"> Output Shape           </span>┃<span style=\"font-weight: bold\">       Param # </span>┃\n",
              "┡━━━━━━━━━━━━━━━━━━━━━━━━━━━━━━━━━╇━━━━━━━━━━━━━━━━━━━━━━━━╇━━━━━━━━━━━━━━━┩\n",
              "│ dense_28 (<span style=\"color: #0087ff; text-decoration-color: #0087ff\">Dense</span>)                │ (<span style=\"color: #00d7ff; text-decoration-color: #00d7ff\">None</span>, <span style=\"color: #00af00; text-decoration-color: #00af00\">32</span>)             │            <span style=\"color: #00af00; text-decoration-color: #00af00\">96</span> │\n",
              "├─────────────────────────────────┼────────────────────────┼───────────────┤\n",
              "│ dense_29 (<span style=\"color: #0087ff; text-decoration-color: #0087ff\">Dense</span>)                │ (<span style=\"color: #00d7ff; text-decoration-color: #00d7ff\">None</span>, <span style=\"color: #00af00; text-decoration-color: #00af00\">32</span>)             │         <span style=\"color: #00af00; text-decoration-color: #00af00\">1,056</span> │\n",
              "├─────────────────────────────────┼────────────────────────┼───────────────┤\n",
              "│ dense_30 (<span style=\"color: #0087ff; text-decoration-color: #0087ff\">Dense</span>)                │ (<span style=\"color: #00d7ff; text-decoration-color: #00d7ff\">None</span>, <span style=\"color: #00af00; text-decoration-color: #00af00\">32</span>)             │         <span style=\"color: #00af00; text-decoration-color: #00af00\">1,056</span> │\n",
              "├─────────────────────────────────┼────────────────────────┼───────────────┤\n",
              "│ dense_31 (<span style=\"color: #0087ff; text-decoration-color: #0087ff\">Dense</span>)                │ (<span style=\"color: #00d7ff; text-decoration-color: #00d7ff\">None</span>, <span style=\"color: #00af00; text-decoration-color: #00af00\">1</span>)              │            <span style=\"color: #00af00; text-decoration-color: #00af00\">33</span> │\n",
              "└─────────────────────────────────┴────────────────────────┴───────────────┘\n",
              "</pre>\n"
            ]
          },
          "metadata": {}
        },
        {
          "output_type": "display_data",
          "data": {
            "text/plain": [
              "\u001b[1m Total params: \u001b[0m\u001b[38;5;34m2,241\u001b[0m (8.75 KB)\n"
            ],
            "text/html": [
              "<pre style=\"white-space:pre;overflow-x:auto;line-height:normal;font-family:Menlo,'DejaVu Sans Mono',consolas,'Courier New',monospace\"><span style=\"font-weight: bold\"> Total params: </span><span style=\"color: #00af00; text-decoration-color: #00af00\">2,241</span> (8.75 KB)\n",
              "</pre>\n"
            ]
          },
          "metadata": {}
        },
        {
          "output_type": "display_data",
          "data": {
            "text/plain": [
              "\u001b[1m Trainable params: \u001b[0m\u001b[38;5;34m2,241\u001b[0m (8.75 KB)\n"
            ],
            "text/html": [
              "<pre style=\"white-space:pre;overflow-x:auto;line-height:normal;font-family:Menlo,'DejaVu Sans Mono',consolas,'Courier New',monospace\"><span style=\"font-weight: bold\"> Trainable params: </span><span style=\"color: #00af00; text-decoration-color: #00af00\">2,241</span> (8.75 KB)\n",
              "</pre>\n"
            ]
          },
          "metadata": {}
        },
        {
          "output_type": "display_data",
          "data": {
            "text/plain": [
              "\u001b[1m Non-trainable params: \u001b[0m\u001b[38;5;34m0\u001b[0m (0.00 B)\n"
            ],
            "text/html": [
              "<pre style=\"white-space:pre;overflow-x:auto;line-height:normal;font-family:Menlo,'DejaVu Sans Mono',consolas,'Courier New',monospace\"><span style=\"font-weight: bold\"> Non-trainable params: </span><span style=\"color: #00af00; text-decoration-color: #00af00\">0</span> (0.00 B)\n",
              "</pre>\n"
            ]
          },
          "metadata": {}
        },
        {
          "output_type": "display_data",
          "data": {
            "text/plain": [
              "\u001b[1mModel: \"sequential_8\"\u001b[0m\n"
            ],
            "text/html": [
              "<pre style=\"white-space:pre;overflow-x:auto;line-height:normal;font-family:Menlo,'DejaVu Sans Mono',consolas,'Courier New',monospace\"><span style=\"font-weight: bold\">Model: \"sequential_8\"</span>\n",
              "</pre>\n"
            ]
          },
          "metadata": {}
        },
        {
          "output_type": "display_data",
          "data": {
            "text/plain": [
              "┏━━━━━━━━━━━━━━━━━━━━━━━━━━━━━━━━━┳━━━━━━━━━━━━━━━━━━━━━━━━┳━━━━━━━━━━━━━━━┓\n",
              "┃\u001b[1m \u001b[0m\u001b[1mLayer (type)                   \u001b[0m\u001b[1m \u001b[0m┃\u001b[1m \u001b[0m\u001b[1mOutput Shape          \u001b[0m\u001b[1m \u001b[0m┃\u001b[1m \u001b[0m\u001b[1m      Param #\u001b[0m\u001b[1m \u001b[0m┃\n",
              "┡━━━━━━━━━━━━━━━━━━━━━━━━━━━━━━━━━╇━━━━━━━━━━━━━━━━━━━━━━━━╇━━━━━━━━━━━━━━━┩\n",
              "│ dense_32 (\u001b[38;5;33mDense\u001b[0m)                │ (\u001b[38;5;45mNone\u001b[0m, \u001b[38;5;34m32\u001b[0m)             │            \u001b[38;5;34m96\u001b[0m │\n",
              "├─────────────────────────────────┼────────────────────────┼───────────────┤\n",
              "│ dense_33 (\u001b[38;5;33mDense\u001b[0m)                │ (\u001b[38;5;45mNone\u001b[0m, \u001b[38;5;34m32\u001b[0m)             │         \u001b[38;5;34m1,056\u001b[0m │\n",
              "├─────────────────────────────────┼────────────────────────┼───────────────┤\n",
              "│ dense_34 (\u001b[38;5;33mDense\u001b[0m)                │ (\u001b[38;5;45mNone\u001b[0m, \u001b[38;5;34m32\u001b[0m)             │         \u001b[38;5;34m1,056\u001b[0m │\n",
              "├─────────────────────────────────┼────────────────────────┼───────────────┤\n",
              "│ dense_35 (\u001b[38;5;33mDense\u001b[0m)                │ (\u001b[38;5;45mNone\u001b[0m, \u001b[38;5;34m1\u001b[0m)              │            \u001b[38;5;34m33\u001b[0m │\n",
              "└─────────────────────────────────┴────────────────────────┴───────────────┘\n"
            ],
            "text/html": [
              "<pre style=\"white-space:pre;overflow-x:auto;line-height:normal;font-family:Menlo,'DejaVu Sans Mono',consolas,'Courier New',monospace\">┏━━━━━━━━━━━━━━━━━━━━━━━━━━━━━━━━━┳━━━━━━━━━━━━━━━━━━━━━━━━┳━━━━━━━━━━━━━━━┓\n",
              "┃<span style=\"font-weight: bold\"> Layer (type)                    </span>┃<span style=\"font-weight: bold\"> Output Shape           </span>┃<span style=\"font-weight: bold\">       Param # </span>┃\n",
              "┡━━━━━━━━━━━━━━━━━━━━━━━━━━━━━━━━━╇━━━━━━━━━━━━━━━━━━━━━━━━╇━━━━━━━━━━━━━━━┩\n",
              "│ dense_32 (<span style=\"color: #0087ff; text-decoration-color: #0087ff\">Dense</span>)                │ (<span style=\"color: #00d7ff; text-decoration-color: #00d7ff\">None</span>, <span style=\"color: #00af00; text-decoration-color: #00af00\">32</span>)             │            <span style=\"color: #00af00; text-decoration-color: #00af00\">96</span> │\n",
              "├─────────────────────────────────┼────────────────────────┼───────────────┤\n",
              "│ dense_33 (<span style=\"color: #0087ff; text-decoration-color: #0087ff\">Dense</span>)                │ (<span style=\"color: #00d7ff; text-decoration-color: #00d7ff\">None</span>, <span style=\"color: #00af00; text-decoration-color: #00af00\">32</span>)             │         <span style=\"color: #00af00; text-decoration-color: #00af00\">1,056</span> │\n",
              "├─────────────────────────────────┼────────────────────────┼───────────────┤\n",
              "│ dense_34 (<span style=\"color: #0087ff; text-decoration-color: #0087ff\">Dense</span>)                │ (<span style=\"color: #00d7ff; text-decoration-color: #00d7ff\">None</span>, <span style=\"color: #00af00; text-decoration-color: #00af00\">32</span>)             │         <span style=\"color: #00af00; text-decoration-color: #00af00\">1,056</span> │\n",
              "├─────────────────────────────────┼────────────────────────┼───────────────┤\n",
              "│ dense_35 (<span style=\"color: #0087ff; text-decoration-color: #0087ff\">Dense</span>)                │ (<span style=\"color: #00d7ff; text-decoration-color: #00d7ff\">None</span>, <span style=\"color: #00af00; text-decoration-color: #00af00\">1</span>)              │            <span style=\"color: #00af00; text-decoration-color: #00af00\">33</span> │\n",
              "└─────────────────────────────────┴────────────────────────┴───────────────┘\n",
              "</pre>\n"
            ]
          },
          "metadata": {}
        },
        {
          "output_type": "display_data",
          "data": {
            "text/plain": [
              "\u001b[1m Total params: \u001b[0m\u001b[38;5;34m2,241\u001b[0m (8.75 KB)\n"
            ],
            "text/html": [
              "<pre style=\"white-space:pre;overflow-x:auto;line-height:normal;font-family:Menlo,'DejaVu Sans Mono',consolas,'Courier New',monospace\"><span style=\"font-weight: bold\"> Total params: </span><span style=\"color: #00af00; text-decoration-color: #00af00\">2,241</span> (8.75 KB)\n",
              "</pre>\n"
            ]
          },
          "metadata": {}
        },
        {
          "output_type": "display_data",
          "data": {
            "text/plain": [
              "\u001b[1m Trainable params: \u001b[0m\u001b[38;5;34m2,241\u001b[0m (8.75 KB)\n"
            ],
            "text/html": [
              "<pre style=\"white-space:pre;overflow-x:auto;line-height:normal;font-family:Menlo,'DejaVu Sans Mono',consolas,'Courier New',monospace\"><span style=\"font-weight: bold\"> Trainable params: </span><span style=\"color: #00af00; text-decoration-color: #00af00\">2,241</span> (8.75 KB)\n",
              "</pre>\n"
            ]
          },
          "metadata": {}
        },
        {
          "output_type": "display_data",
          "data": {
            "text/plain": [
              "\u001b[1m Non-trainable params: \u001b[0m\u001b[38;5;34m0\u001b[0m (0.00 B)\n"
            ],
            "text/html": [
              "<pre style=\"white-space:pre;overflow-x:auto;line-height:normal;font-family:Menlo,'DejaVu Sans Mono',consolas,'Courier New',monospace\"><span style=\"font-weight: bold\"> Non-trainable params: </span><span style=\"color: #00af00; text-decoration-color: #00af00\">0</span> (0.00 B)\n",
              "</pre>\n"
            ]
          },
          "metadata": {}
        }
      ]
    },
    {
      "cell_type": "code",
      "source": [
        "\n",
        "history_1 = m1.fit(X_train, y_train,\n",
        "                   epochs=100, batch_size=32,\n",
        "                   verbose=1, validation_split=0.1)\n",
        "history_2 = m2.fit(X_train, y_train,\n",
        "                   epochs=100, batch_size=32,\n",
        "                   verbose=0, validation_split=0.1)\n",
        "history_3 = m3.fit(X_train, y_train,\n",
        "                   epochs=100, batch_size=32,\n",
        "                   verbose=0, validation_split=0.1)\n"
      ],
      "metadata": {
        "colab": {
          "base_uri": "https://localhost:8080/"
        },
        "id": "bY54Yi-WYEQI",
        "outputId": "ebda630b-489d-4082-f5fe-1746a324e8ea"
      },
      "execution_count": null,
      "outputs": [
        {
          "output_type": "stream",
          "name": "stdout",
          "text": [
            "Epoch 1/100\n",
            "\u001b[1m12/12\u001b[0m \u001b[32m━━━━━━━━━━━━━━━━━━━━\u001b[0m\u001b[37m\u001b[0m \u001b[1m1s\u001b[0m 27ms/step - loss: 275.3073 - mean_absolute_error: 16.0255 - mean_squared_error: 275.3073 - val_loss: 272.8075 - val_mean_absolute_error: 15.9071 - val_mean_squared_error: 272.8075\n",
            "Epoch 2/100\n",
            "\u001b[1m12/12\u001b[0m \u001b[32m━━━━━━━━━━━━━━━━━━━━\u001b[0m\u001b[37m\u001b[0m \u001b[1m0s\u001b[0m 8ms/step - loss: 249.5626 - mean_absolute_error: 15.1352 - mean_squared_error: 249.5626 - val_loss: 246.1202 - val_mean_absolute_error: 15.0991 - val_mean_squared_error: 246.1202\n",
            "Epoch 3/100\n",
            "\u001b[1m12/12\u001b[0m \u001b[32m━━━━━━━━━━━━━━━━━━━━\u001b[0m\u001b[37m\u001b[0m \u001b[1m0s\u001b[0m 7ms/step - loss: 225.2432 - mean_absolute_error: 14.3750 - mean_squared_error: 225.2432 - val_loss: 212.1185 - val_mean_absolute_error: 14.0161 - val_mean_squared_error: 212.1185\n",
            "Epoch 4/100\n",
            "\u001b[1m12/12\u001b[0m \u001b[32m━━━━━━━━━━━━━━━━━━━━\u001b[0m\u001b[37m\u001b[0m \u001b[1m0s\u001b[0m 8ms/step - loss: 191.7330 - mean_absolute_error: 13.1928 - mean_squared_error: 191.7330 - val_loss: 171.3247 - val_mean_absolute_error: 12.5761 - val_mean_squared_error: 171.3247\n",
            "Epoch 5/100\n",
            "\u001b[1m12/12\u001b[0m \u001b[32m━━━━━━━━━━━━━━━━━━━━\u001b[0m\u001b[37m\u001b[0m \u001b[1m0s\u001b[0m 8ms/step - loss: 147.7202 - mean_absolute_error: 11.4223 - mean_squared_error: 147.7202 - val_loss: 127.0368 - val_mean_absolute_error: 10.7727 - val_mean_squared_error: 127.0368\n",
            "Epoch 6/100\n",
            "\u001b[1m12/12\u001b[0m \u001b[32m━━━━━━━━━━━━━━━━━━━━\u001b[0m\u001b[37m\u001b[0m \u001b[1m0s\u001b[0m 8ms/step - loss: 111.4296 - mean_absolute_error: 9.8696 - mean_squared_error: 111.4296 - val_loss: 83.4740 - val_mean_absolute_error: 8.5898 - val_mean_squared_error: 83.4740\n",
            "Epoch 7/100\n",
            "\u001b[1m12/12\u001b[0m \u001b[32m━━━━━━━━━━━━━━━━━━━━\u001b[0m\u001b[37m\u001b[0m \u001b[1m0s\u001b[0m 7ms/step - loss: 73.4525 - mean_absolute_error: 7.7354 - mean_squared_error: 73.4525 - val_loss: 47.2816 - val_mean_absolute_error: 6.1644 - val_mean_squared_error: 47.2816\n",
            "Epoch 8/100\n",
            "\u001b[1m12/12\u001b[0m \u001b[32m━━━━━━━━━━━━━━━━━━━━\u001b[0m\u001b[37m\u001b[0m \u001b[1m0s\u001b[0m 11ms/step - loss: 41.4493 - mean_absolute_error: 5.5565 - mean_squared_error: 41.4493 - val_loss: 25.4841 - val_mean_absolute_error: 4.1134 - val_mean_squared_error: 25.4841\n",
            "Epoch 9/100\n",
            "\u001b[1m12/12\u001b[0m \u001b[32m━━━━━━━━━━━━━━━━━━━━\u001b[0m\u001b[37m\u001b[0m \u001b[1m0s\u001b[0m 8ms/step - loss: 27.8493 - mean_absolute_error: 4.2312 - mean_squared_error: 27.8493 - val_loss: 13.9289 - val_mean_absolute_error: 2.8780 - val_mean_squared_error: 13.9289\n",
            "Epoch 10/100\n",
            "\u001b[1m12/12\u001b[0m \u001b[32m━━━━━━━━━━━━━━━━━━━━\u001b[0m\u001b[37m\u001b[0m \u001b[1m0s\u001b[0m 7ms/step - loss: 17.1343 - mean_absolute_error: 3.2222 - mean_squared_error: 17.1343 - val_loss: 10.7224 - val_mean_absolute_error: 2.6253 - val_mean_squared_error: 10.7224\n",
            "Epoch 11/100\n",
            "\u001b[1m12/12\u001b[0m \u001b[32m━━━━━━━━━━━━━━━━━━━━\u001b[0m\u001b[37m\u001b[0m \u001b[1m0s\u001b[0m 7ms/step - loss: 13.4830 - mean_absolute_error: 2.9986 - mean_squared_error: 13.4830 - val_loss: 6.9347 - val_mean_absolute_error: 2.1212 - val_mean_squared_error: 6.9347\n",
            "Epoch 12/100\n",
            "\u001b[1m12/12\u001b[0m \u001b[32m━━━━━━━━━━━━━━━━━━━━\u001b[0m\u001b[37m\u001b[0m \u001b[1m0s\u001b[0m 8ms/step - loss: 10.5057 - mean_absolute_error: 2.6343 - mean_squared_error: 10.5057 - val_loss: 6.4241 - val_mean_absolute_error: 2.0689 - val_mean_squared_error: 6.4241\n",
            "Epoch 13/100\n",
            "\u001b[1m12/12\u001b[0m \u001b[32m━━━━━━━━━━━━━━━━━━━━\u001b[0m\u001b[37m\u001b[0m \u001b[1m0s\u001b[0m 7ms/step - loss: 8.5958 - mean_absolute_error: 2.3637 - mean_squared_error: 8.5958 - val_loss: 5.3573 - val_mean_absolute_error: 1.8315 - val_mean_squared_error: 5.3573\n",
            "Epoch 14/100\n",
            "\u001b[1m12/12\u001b[0m \u001b[32m━━━━━━━━━━━━━━━━━━━━\u001b[0m\u001b[37m\u001b[0m \u001b[1m0s\u001b[0m 7ms/step - loss: 8.0126 - mean_absolute_error: 2.2470 - mean_squared_error: 8.0126 - val_loss: 4.2721 - val_mean_absolute_error: 1.4757 - val_mean_squared_error: 4.2721\n",
            "Epoch 15/100\n",
            "\u001b[1m12/12\u001b[0m \u001b[32m━━━━━━━━━━━━━━━━━━━━\u001b[0m\u001b[37m\u001b[0m \u001b[1m0s\u001b[0m 7ms/step - loss: 5.8118 - mean_absolute_error: 1.8468 - mean_squared_error: 5.8118 - val_loss: 4.5338 - val_mean_absolute_error: 1.5725 - val_mean_squared_error: 4.5338\n",
            "Epoch 16/100\n",
            "\u001b[1m12/12\u001b[0m \u001b[32m━━━━━━━━━━━━━━━━━━━━\u001b[0m\u001b[37m\u001b[0m \u001b[1m0s\u001b[0m 8ms/step - loss: 4.8759 - mean_absolute_error: 1.7154 - mean_squared_error: 4.8759 - val_loss: 4.1469 - val_mean_absolute_error: 1.4497 - val_mean_squared_error: 4.1469\n",
            "Epoch 17/100\n",
            "\u001b[1m12/12\u001b[0m \u001b[32m━━━━━━━━━━━━━━━━━━━━\u001b[0m\u001b[37m\u001b[0m \u001b[1m0s\u001b[0m 7ms/step - loss: 4.4697 - mean_absolute_error: 1.5873 - mean_squared_error: 4.4697 - val_loss: 3.9598 - val_mean_absolute_error: 1.4097 - val_mean_squared_error: 3.9598\n",
            "Epoch 18/100\n",
            "\u001b[1m12/12\u001b[0m \u001b[32m━━━━━━━━━━━━━━━━━━━━\u001b[0m\u001b[37m\u001b[0m \u001b[1m0s\u001b[0m 7ms/step - loss: 4.7533 - mean_absolute_error: 1.5978 - mean_squared_error: 4.7533 - val_loss: 3.8437 - val_mean_absolute_error: 1.3829 - val_mean_squared_error: 3.8437\n",
            "Epoch 19/100\n",
            "\u001b[1m12/12\u001b[0m \u001b[32m━━━━━━━━━━━━━━━━━━━━\u001b[0m\u001b[37m\u001b[0m \u001b[1m0s\u001b[0m 7ms/step - loss: 4.8892 - mean_absolute_error: 1.5824 - mean_squared_error: 4.8892 - val_loss: 4.1543 - val_mean_absolute_error: 1.4514 - val_mean_squared_error: 4.1543\n",
            "Epoch 20/100\n",
            "\u001b[1m12/12\u001b[0m \u001b[32m━━━━━━━━━━━━━━━━━━━━\u001b[0m\u001b[37m\u001b[0m \u001b[1m0s\u001b[0m 8ms/step - loss: 5.1760 - mean_absolute_error: 1.6818 - mean_squared_error: 5.1760 - val_loss: 3.8225 - val_mean_absolute_error: 1.3733 - val_mean_squared_error: 3.8225\n",
            "Epoch 21/100\n",
            "\u001b[1m12/12\u001b[0m \u001b[32m━━━━━━━━━━━━━━━━━━━━\u001b[0m\u001b[37m\u001b[0m \u001b[1m0s\u001b[0m 8ms/step - loss: 4.1286 - mean_absolute_error: 1.4818 - mean_squared_error: 4.1286 - val_loss: 3.6890 - val_mean_absolute_error: 1.3263 - val_mean_squared_error: 3.6890\n",
            "Epoch 22/100\n",
            "\u001b[1m12/12\u001b[0m \u001b[32m━━━━━━━━━━━━━━━━━━━━\u001b[0m\u001b[37m\u001b[0m \u001b[1m0s\u001b[0m 11ms/step - loss: 4.7043 - mean_absolute_error: 1.5231 - mean_squared_error: 4.7043 - val_loss: 3.7621 - val_mean_absolute_error: 1.3332 - val_mean_squared_error: 3.7621\n",
            "Epoch 23/100\n",
            "\u001b[1m12/12\u001b[0m \u001b[32m━━━━━━━━━━━━━━━━━━━━\u001b[0m\u001b[37m\u001b[0m \u001b[1m0s\u001b[0m 7ms/step - loss: 4.5070 - mean_absolute_error: 1.5852 - mean_squared_error: 4.5070 - val_loss: 3.6030 - val_mean_absolute_error: 1.2791 - val_mean_squared_error: 3.6030\n",
            "Epoch 24/100\n",
            "\u001b[1m12/12\u001b[0m \u001b[32m━━━━━━━━━━━━━━━━━━━━\u001b[0m\u001b[37m\u001b[0m \u001b[1m0s\u001b[0m 7ms/step - loss: 4.3140 - mean_absolute_error: 1.5003 - mean_squared_error: 4.3140 - val_loss: 3.6932 - val_mean_absolute_error: 1.2987 - val_mean_squared_error: 3.6932\n",
            "Epoch 25/100\n",
            "\u001b[1m12/12\u001b[0m \u001b[32m━━━━━━━━━━━━━━━━━━━━\u001b[0m\u001b[37m\u001b[0m \u001b[1m0s\u001b[0m 7ms/step - loss: 3.6551 - mean_absolute_error: 1.3959 - mean_squared_error: 3.6551 - val_loss: 3.7543 - val_mean_absolute_error: 1.3162 - val_mean_squared_error: 3.7543\n",
            "Epoch 26/100\n",
            "\u001b[1m12/12\u001b[0m \u001b[32m━━━━━━━━━━━━━━━━━━━━\u001b[0m\u001b[37m\u001b[0m \u001b[1m0s\u001b[0m 8ms/step - loss: 3.8751 - mean_absolute_error: 1.4449 - mean_squared_error: 3.8751 - val_loss: 3.9731 - val_mean_absolute_error: 1.3616 - val_mean_squared_error: 3.9731\n",
            "Epoch 27/100\n",
            "\u001b[1m12/12\u001b[0m \u001b[32m━━━━━━━━━━━━━━━━━━━━\u001b[0m\u001b[37m\u001b[0m \u001b[1m0s\u001b[0m 7ms/step - loss: 3.4848 - mean_absolute_error: 1.3960 - mean_squared_error: 3.4848 - val_loss: 4.1408 - val_mean_absolute_error: 1.4457 - val_mean_squared_error: 4.1408\n",
            "Epoch 28/100\n",
            "\u001b[1m12/12\u001b[0m \u001b[32m━━━━━━━━━━━━━━━━━━━━\u001b[0m\u001b[37m\u001b[0m \u001b[1m0s\u001b[0m 7ms/step - loss: 3.8480 - mean_absolute_error: 1.4827 - mean_squared_error: 3.8480 - val_loss: 3.6501 - val_mean_absolute_error: 1.2825 - val_mean_squared_error: 3.6501\n",
            "Epoch 29/100\n",
            "\u001b[1m12/12\u001b[0m \u001b[32m━━━━━━━━━━━━━━━━━━━━\u001b[0m\u001b[37m\u001b[0m \u001b[1m0s\u001b[0m 9ms/step - loss: 3.1714 - mean_absolute_error: 1.3614 - mean_squared_error: 3.1714 - val_loss: 3.6078 - val_mean_absolute_error: 1.2650 - val_mean_squared_error: 3.6078\n",
            "Epoch 30/100\n",
            "\u001b[1m12/12\u001b[0m \u001b[32m━━━━━━━━━━━━━━━━━━━━\u001b[0m\u001b[37m\u001b[0m \u001b[1m0s\u001b[0m 8ms/step - loss: 4.0828 - mean_absolute_error: 1.4354 - mean_squared_error: 4.0828 - val_loss: 3.7327 - val_mean_absolute_error: 1.2656 - val_mean_squared_error: 3.7327\n",
            "Epoch 31/100\n",
            "\u001b[1m12/12\u001b[0m \u001b[32m━━━━━━━━━━━━━━━━━━━━\u001b[0m\u001b[37m\u001b[0m \u001b[1m0s\u001b[0m 8ms/step - loss: 3.3313 - mean_absolute_error: 1.3073 - mean_squared_error: 3.3313 - val_loss: 3.4834 - val_mean_absolute_error: 1.1989 - val_mean_squared_error: 3.4834\n",
            "Epoch 32/100\n",
            "\u001b[1m12/12\u001b[0m \u001b[32m━━━━━━━━━━━━━━━━━━━━\u001b[0m\u001b[37m\u001b[0m \u001b[1m0s\u001b[0m 7ms/step - loss: 3.1010 - mean_absolute_error: 1.2255 - mean_squared_error: 3.1010 - val_loss: 3.5367 - val_mean_absolute_error: 1.2236 - val_mean_squared_error: 3.5367\n",
            "Epoch 33/100\n",
            "\u001b[1m12/12\u001b[0m \u001b[32m━━━━━━━━━━━━━━━━━━━━\u001b[0m\u001b[37m\u001b[0m \u001b[1m0s\u001b[0m 8ms/step - loss: 3.6408 - mean_absolute_error: 1.3641 - mean_squared_error: 3.6408 - val_loss: 3.5455 - val_mean_absolute_error: 1.2212 - val_mean_squared_error: 3.5455\n",
            "Epoch 34/100\n",
            "\u001b[1m12/12\u001b[0m \u001b[32m━━━━━━━━━━━━━━━━━━━━\u001b[0m\u001b[37m\u001b[0m \u001b[1m0s\u001b[0m 7ms/step - loss: 3.6479 - mean_absolute_error: 1.3317 - mean_squared_error: 3.6479 - val_loss: 3.4066 - val_mean_absolute_error: 1.1694 - val_mean_squared_error: 3.4066\n",
            "Epoch 35/100\n",
            "\u001b[1m12/12\u001b[0m \u001b[32m━━━━━━━━━━━━━━━━━━━━\u001b[0m\u001b[37m\u001b[0m \u001b[1m0s\u001b[0m 7ms/step - loss: 3.6080 - mean_absolute_error: 1.3504 - mean_squared_error: 3.6080 - val_loss: 3.4674 - val_mean_absolute_error: 1.2250 - val_mean_squared_error: 3.4674\n",
            "Epoch 36/100\n",
            "\u001b[1m12/12\u001b[0m \u001b[32m━━━━━━━━━━━━━━━━━━━━\u001b[0m\u001b[37m\u001b[0m \u001b[1m0s\u001b[0m 10ms/step - loss: 3.3134 - mean_absolute_error: 1.3190 - mean_squared_error: 3.3134 - val_loss: 3.4829 - val_mean_absolute_error: 1.1811 - val_mean_squared_error: 3.4829\n",
            "Epoch 37/100\n",
            "\u001b[1m12/12\u001b[0m \u001b[32m━━━━━━━━━━━━━━━━━━━━\u001b[0m\u001b[37m\u001b[0m \u001b[1m0s\u001b[0m 11ms/step - loss: 3.3723 - mean_absolute_error: 1.2917 - mean_squared_error: 3.3723 - val_loss: 3.3799 - val_mean_absolute_error: 1.1584 - val_mean_squared_error: 3.3799\n",
            "Epoch 38/100\n",
            "\u001b[1m12/12\u001b[0m \u001b[32m━━━━━━━━━━━━━━━━━━━━\u001b[0m\u001b[37m\u001b[0m \u001b[1m0s\u001b[0m 11ms/step - loss: 3.8728 - mean_absolute_error: 1.4047 - mean_squared_error: 3.8728 - val_loss: 3.3902 - val_mean_absolute_error: 1.1440 - val_mean_squared_error: 3.3902\n",
            "Epoch 39/100\n",
            "\u001b[1m12/12\u001b[0m \u001b[32m━━━━━━━━━━━━━━━━━━━━\u001b[0m\u001b[37m\u001b[0m \u001b[1m0s\u001b[0m 10ms/step - loss: 4.2605 - mean_absolute_error: 1.4755 - mean_squared_error: 4.2605 - val_loss: 3.4968 - val_mean_absolute_error: 1.1700 - val_mean_squared_error: 3.4968\n",
            "Epoch 40/100\n",
            "\u001b[1m12/12\u001b[0m \u001b[32m━━━━━━━━━━━━━━━━━━━━\u001b[0m\u001b[37m\u001b[0m \u001b[1m0s\u001b[0m 13ms/step - loss: 3.2916 - mean_absolute_error: 1.2722 - mean_squared_error: 3.2916 - val_loss: 3.4099 - val_mean_absolute_error: 1.1734 - val_mean_squared_error: 3.4099\n",
            "Epoch 41/100\n",
            "\u001b[1m12/12\u001b[0m \u001b[32m━━━━━━━━━━━━━━━━━━━━\u001b[0m\u001b[37m\u001b[0m \u001b[1m0s\u001b[0m 14ms/step - loss: 3.1932 - mean_absolute_error: 1.2858 - mean_squared_error: 3.1932 - val_loss: 3.5389 - val_mean_absolute_error: 1.2883 - val_mean_squared_error: 3.5389\n",
            "Epoch 42/100\n",
            "\u001b[1m12/12\u001b[0m \u001b[32m━━━━━━━━━━━━━━━━━━━━\u001b[0m\u001b[37m\u001b[0m \u001b[1m0s\u001b[0m 14ms/step - loss: 3.7008 - mean_absolute_error: 1.3550 - mean_squared_error: 3.7008 - val_loss: 3.3675 - val_mean_absolute_error: 1.1391 - val_mean_squared_error: 3.3675\n",
            "Epoch 43/100\n",
            "\u001b[1m12/12\u001b[0m \u001b[32m━━━━━━━━━━━━━━━━━━━━\u001b[0m\u001b[37m\u001b[0m \u001b[1m0s\u001b[0m 8ms/step - loss: 3.1233 - mean_absolute_error: 1.2441 - mean_squared_error: 3.1233 - val_loss: 3.4373 - val_mean_absolute_error: 1.1552 - val_mean_squared_error: 3.4373\n",
            "Epoch 44/100\n",
            "\u001b[1m12/12\u001b[0m \u001b[32m━━━━━━━━━━━━━━━━━━━━\u001b[0m\u001b[37m\u001b[0m \u001b[1m0s\u001b[0m 8ms/step - loss: 3.7746 - mean_absolute_error: 1.4056 - mean_squared_error: 3.7746 - val_loss: 3.3880 - val_mean_absolute_error: 1.1985 - val_mean_squared_error: 3.3880\n",
            "Epoch 45/100\n",
            "\u001b[1m12/12\u001b[0m \u001b[32m━━━━━━━━━━━━━━━━━━━━\u001b[0m\u001b[37m\u001b[0m \u001b[1m0s\u001b[0m 7ms/step - loss: 3.3441 - mean_absolute_error: 1.2678 - mean_squared_error: 3.3441 - val_loss: 3.6040 - val_mean_absolute_error: 1.3350 - val_mean_squared_error: 3.6040\n",
            "Epoch 46/100\n",
            "\u001b[1m12/12\u001b[0m \u001b[32m━━━━━━━━━━━━━━━━━━━━\u001b[0m\u001b[37m\u001b[0m \u001b[1m0s\u001b[0m 8ms/step - loss: 3.4063 - mean_absolute_error: 1.3354 - mean_squared_error: 3.4063 - val_loss: 3.5114 - val_mean_absolute_error: 1.1641 - val_mean_squared_error: 3.5114\n",
            "Epoch 47/100\n",
            "\u001b[1m12/12\u001b[0m \u001b[32m━━━━━━━━━━━━━━━━━━━━\u001b[0m\u001b[37m\u001b[0m \u001b[1m0s\u001b[0m 7ms/step - loss: 4.2444 - mean_absolute_error: 1.4235 - mean_squared_error: 4.2444 - val_loss: 3.4522 - val_mean_absolute_error: 1.1844 - val_mean_squared_error: 3.4522\n",
            "Epoch 48/100\n",
            "\u001b[1m12/12\u001b[0m \u001b[32m━━━━━━━━━━━━━━━━━━━━\u001b[0m\u001b[37m\u001b[0m \u001b[1m0s\u001b[0m 11ms/step - loss: 2.8491 - mean_absolute_error: 1.1857 - mean_squared_error: 2.8491 - val_loss: 3.3688 - val_mean_absolute_error: 1.1941 - val_mean_squared_error: 3.3688\n",
            "Epoch 49/100\n",
            "\u001b[1m12/12\u001b[0m \u001b[32m━━━━━━━━━━━━━━━━━━━━\u001b[0m\u001b[37m\u001b[0m \u001b[1m0s\u001b[0m 40ms/step - loss: 3.2378 - mean_absolute_error: 1.3002 - mean_squared_error: 3.2378 - val_loss: 3.2867 - val_mean_absolute_error: 1.1406 - val_mean_squared_error: 3.2867\n",
            "Epoch 50/100\n",
            "\u001b[1m12/12\u001b[0m \u001b[32m━━━━━━━━━━━━━━━━━━━━\u001b[0m\u001b[37m\u001b[0m \u001b[1m0s\u001b[0m 22ms/step - loss: 3.6905 - mean_absolute_error: 1.3584 - mean_squared_error: 3.6905 - val_loss: 3.2828 - val_mean_absolute_error: 1.1386 - val_mean_squared_error: 3.2828\n",
            "Epoch 51/100\n",
            "\u001b[1m12/12\u001b[0m \u001b[32m━━━━━━━━━━━━━━━━━━━━\u001b[0m\u001b[37m\u001b[0m \u001b[1m0s\u001b[0m 7ms/step - loss: 3.1751 - mean_absolute_error: 1.2518 - mean_squared_error: 3.1751 - val_loss: 3.2711 - val_mean_absolute_error: 1.1182 - val_mean_squared_error: 3.2711\n",
            "Epoch 52/100\n",
            "\u001b[1m12/12\u001b[0m \u001b[32m━━━━━━━━━━━━━━━━━━━━\u001b[0m\u001b[37m\u001b[0m \u001b[1m0s\u001b[0m 7ms/step - loss: 3.8130 - mean_absolute_error: 1.3671 - mean_squared_error: 3.8130 - val_loss: 3.4719 - val_mean_absolute_error: 1.2814 - val_mean_squared_error: 3.4719\n",
            "Epoch 53/100\n",
            "\u001b[1m12/12\u001b[0m \u001b[32m━━━━━━━━━━━━━━━━━━━━\u001b[0m\u001b[37m\u001b[0m \u001b[1m0s\u001b[0m 21ms/step - loss: 2.9805 - mean_absolute_error: 1.2480 - mean_squared_error: 2.9805 - val_loss: 3.4409 - val_mean_absolute_error: 1.2620 - val_mean_squared_error: 3.4409\n",
            "Epoch 54/100\n",
            "\u001b[1m12/12\u001b[0m \u001b[32m━━━━━━━━━━━━━━━━━━━━\u001b[0m\u001b[37m\u001b[0m \u001b[1m1s\u001b[0m 10ms/step - loss: 2.8525 - mean_absolute_error: 1.2175 - mean_squared_error: 2.8525 - val_loss: 3.4327 - val_mean_absolute_error: 1.1645 - val_mean_squared_error: 3.4327\n",
            "Epoch 55/100\n",
            "\u001b[1m12/12\u001b[0m \u001b[32m━━━━━━━━━━━━━━━━━━━━\u001b[0m\u001b[37m\u001b[0m \u001b[1m0s\u001b[0m 8ms/step - loss: 3.8626 - mean_absolute_error: 1.3409 - mean_squared_error: 3.8626 - val_loss: 3.3609 - val_mean_absolute_error: 1.2347 - val_mean_squared_error: 3.3609\n",
            "Epoch 56/100\n",
            "\u001b[1m12/12\u001b[0m \u001b[32m━━━━━━━━━━━━━━━━━━━━\u001b[0m\u001b[37m\u001b[0m \u001b[1m0s\u001b[0m 8ms/step - loss: 3.5616 - mean_absolute_error: 1.3297 - mean_squared_error: 3.5616 - val_loss: 3.2854 - val_mean_absolute_error: 1.1501 - val_mean_squared_error: 3.2854\n",
            "Epoch 57/100\n",
            "\u001b[1m12/12\u001b[0m \u001b[32m━━━━━━━━━━━━━━━━━━━━\u001b[0m\u001b[37m\u001b[0m \u001b[1m0s\u001b[0m 7ms/step - loss: 3.2681 - mean_absolute_error: 1.2334 - mean_squared_error: 3.2681 - val_loss: 3.5603 - val_mean_absolute_error: 1.1491 - val_mean_squared_error: 3.5603\n",
            "Epoch 58/100\n",
            "\u001b[1m12/12\u001b[0m \u001b[32m━━━━━━━━━━━━━━━━━━━━\u001b[0m\u001b[37m\u001b[0m \u001b[1m0s\u001b[0m 7ms/step - loss: 2.6688 - mean_absolute_error: 1.1221 - mean_squared_error: 2.6688 - val_loss: 3.9521 - val_mean_absolute_error: 1.4298 - val_mean_squared_error: 3.9521\n",
            "Epoch 59/100\n",
            "\u001b[1m12/12\u001b[0m \u001b[32m━━━━━━━━━━━━━━━━━━━━\u001b[0m\u001b[37m\u001b[0m \u001b[1m0s\u001b[0m 8ms/step - loss: 3.5927 - mean_absolute_error: 1.4082 - mean_squared_error: 3.5927 - val_loss: 3.4849 - val_mean_absolute_error: 1.3033 - val_mean_squared_error: 3.4849\n",
            "Epoch 60/100\n",
            "\u001b[1m12/12\u001b[0m \u001b[32m━━━━━━━━━━━━━━━━━━━━\u001b[0m\u001b[37m\u001b[0m \u001b[1m0s\u001b[0m 7ms/step - loss: 3.1133 - mean_absolute_error: 1.2747 - mean_squared_error: 3.1133 - val_loss: 3.2108 - val_mean_absolute_error: 1.1437 - val_mean_squared_error: 3.2108\n",
            "Epoch 61/100\n",
            "\u001b[1m12/12\u001b[0m \u001b[32m━━━━━━━━━━━━━━━━━━━━\u001b[0m\u001b[37m\u001b[0m \u001b[1m0s\u001b[0m 7ms/step - loss: 3.4337 - mean_absolute_error: 1.2496 - mean_squared_error: 3.4337 - val_loss: 3.3115 - val_mean_absolute_error: 1.2280 - val_mean_squared_error: 3.3115\n",
            "Epoch 62/100\n",
            "\u001b[1m12/12\u001b[0m \u001b[32m━━━━━━━━━━━━━━━━━━━━\u001b[0m\u001b[37m\u001b[0m \u001b[1m0s\u001b[0m 9ms/step - loss: 3.5919 - mean_absolute_error: 1.3489 - mean_squared_error: 3.5919 - val_loss: 3.1930 - val_mean_absolute_error: 1.1381 - val_mean_squared_error: 3.1930\n",
            "Epoch 63/100\n",
            "\u001b[1m12/12\u001b[0m \u001b[32m━━━━━━━━━━━━━━━━━━━━\u001b[0m\u001b[37m\u001b[0m \u001b[1m0s\u001b[0m 8ms/step - loss: 3.1055 - mean_absolute_error: 1.2197 - mean_squared_error: 3.1055 - val_loss: 3.8158 - val_mean_absolute_error: 1.4498 - val_mean_squared_error: 3.8158\n",
            "Epoch 64/100\n",
            "\u001b[1m12/12\u001b[0m \u001b[32m━━━━━━━━━━━━━━━━━━━━\u001b[0m\u001b[37m\u001b[0m \u001b[1m0s\u001b[0m 7ms/step - loss: 3.2545 - mean_absolute_error: 1.3120 - mean_squared_error: 3.2545 - val_loss: 3.4055 - val_mean_absolute_error: 1.2744 - val_mean_squared_error: 3.4055\n",
            "Epoch 65/100\n",
            "\u001b[1m12/12\u001b[0m \u001b[32m━━━━━━━━━━━━━━━━━━━━\u001b[0m\u001b[37m\u001b[0m \u001b[1m0s\u001b[0m 8ms/step - loss: 3.1827 - mean_absolute_error: 1.2791 - mean_squared_error: 3.1827 - val_loss: 3.8336 - val_mean_absolute_error: 1.4590 - val_mean_squared_error: 3.8336\n",
            "Epoch 66/100\n",
            "\u001b[1m12/12\u001b[0m \u001b[32m━━━━━━━━━━━━━━━━━━━━\u001b[0m\u001b[37m\u001b[0m \u001b[1m0s\u001b[0m 7ms/step - loss: 3.1199 - mean_absolute_error: 1.3292 - mean_squared_error: 3.1199 - val_loss: 3.2360 - val_mean_absolute_error: 1.1845 - val_mean_squared_error: 3.2360\n",
            "Epoch 67/100\n",
            "\u001b[1m12/12\u001b[0m \u001b[32m━━━━━━━━━━━━━━━━━━━━\u001b[0m\u001b[37m\u001b[0m \u001b[1m0s\u001b[0m 8ms/step - loss: 3.2213 - mean_absolute_error: 1.2891 - mean_squared_error: 3.2213 - val_loss: 3.2484 - val_mean_absolute_error: 1.1724 - val_mean_squared_error: 3.2484\n",
            "Epoch 68/100\n",
            "\u001b[1m12/12\u001b[0m \u001b[32m━━━━━━━━━━━━━━━━━━━━\u001b[0m\u001b[37m\u001b[0m \u001b[1m0s\u001b[0m 8ms/step - loss: 3.4272 - mean_absolute_error: 1.3387 - mean_squared_error: 3.4272 - val_loss: 3.2058 - val_mean_absolute_error: 1.1213 - val_mean_squared_error: 3.2058\n",
            "Epoch 69/100\n",
            "\u001b[1m12/12\u001b[0m \u001b[32m━━━━━━━━━━━━━━━━━━━━\u001b[0m\u001b[37m\u001b[0m \u001b[1m0s\u001b[0m 8ms/step - loss: 2.7947 - mean_absolute_error: 1.1680 - mean_squared_error: 2.7947 - val_loss: 3.3739 - val_mean_absolute_error: 1.2709 - val_mean_squared_error: 3.3739\n",
            "Epoch 70/100\n",
            "\u001b[1m12/12\u001b[0m \u001b[32m━━━━━━━━━━━━━━━━━━━━\u001b[0m\u001b[37m\u001b[0m \u001b[1m0s\u001b[0m 9ms/step - loss: 2.8215 - mean_absolute_error: 1.1836 - mean_squared_error: 2.8215 - val_loss: 3.1503 - val_mean_absolute_error: 1.1434 - val_mean_squared_error: 3.1503\n",
            "Epoch 71/100\n",
            "\u001b[1m12/12\u001b[0m \u001b[32m━━━━━━━━━━━━━━━━━━━━\u001b[0m\u001b[37m\u001b[0m \u001b[1m0s\u001b[0m 9ms/step - loss: 3.6470 - mean_absolute_error: 1.3505 - mean_squared_error: 3.6470 - val_loss: 3.2470 - val_mean_absolute_error: 1.2115 - val_mean_squared_error: 3.2470\n",
            "Epoch 72/100\n",
            "\u001b[1m12/12\u001b[0m \u001b[32m━━━━━━━━━━━━━━━━━━━━\u001b[0m\u001b[37m\u001b[0m \u001b[1m0s\u001b[0m 8ms/step - loss: 3.4787 - mean_absolute_error: 1.3457 - mean_squared_error: 3.4787 - val_loss: 3.1476 - val_mean_absolute_error: 1.1443 - val_mean_squared_error: 3.1476\n",
            "Epoch 73/100\n",
            "\u001b[1m12/12\u001b[0m \u001b[32m━━━━━━━━━━━━━━━━━━━━\u001b[0m\u001b[37m\u001b[0m \u001b[1m0s\u001b[0m 8ms/step - loss: 2.8979 - mean_absolute_error: 1.2320 - mean_squared_error: 2.8979 - val_loss: 3.4316 - val_mean_absolute_error: 1.2911 - val_mean_squared_error: 3.4316\n",
            "Epoch 74/100\n",
            "\u001b[1m12/12\u001b[0m \u001b[32m━━━━━━━━━━━━━━━━━━━━\u001b[0m\u001b[37m\u001b[0m \u001b[1m0s\u001b[0m 8ms/step - loss: 3.0140 - mean_absolute_error: 1.2664 - mean_squared_error: 3.0140 - val_loss: 3.1158 - val_mean_absolute_error: 1.1205 - val_mean_squared_error: 3.1158\n",
            "Epoch 75/100\n",
            "\u001b[1m12/12\u001b[0m \u001b[32m━━━━━━━━━━━━━━━━━━━━\u001b[0m\u001b[37m\u001b[0m \u001b[1m0s\u001b[0m 8ms/step - loss: 3.0919 - mean_absolute_error: 1.2189 - mean_squared_error: 3.0919 - val_loss: 3.1324 - val_mean_absolute_error: 1.1032 - val_mean_squared_error: 3.1324\n",
            "Epoch 76/100\n",
            "\u001b[1m12/12\u001b[0m \u001b[32m━━━━━━━━━━━━━━━━━━━━\u001b[0m\u001b[37m\u001b[0m \u001b[1m0s\u001b[0m 8ms/step - loss: 3.5590 - mean_absolute_error: 1.2846 - mean_squared_error: 3.5590 - val_loss: 3.2379 - val_mean_absolute_error: 1.1006 - val_mean_squared_error: 3.2379\n",
            "Epoch 77/100\n",
            "\u001b[1m12/12\u001b[0m \u001b[32m━━━━━━━━━━━━━━━━━━━━\u001b[0m\u001b[37m\u001b[0m \u001b[1m0s\u001b[0m 7ms/step - loss: 2.4309 - mean_absolute_error: 1.1056 - mean_squared_error: 2.4309 - val_loss: 3.1477 - val_mean_absolute_error: 1.1044 - val_mean_squared_error: 3.1477\n",
            "Epoch 78/100\n",
            "\u001b[1m12/12\u001b[0m \u001b[32m━━━━━━━━━━━━━━━━━━━━\u001b[0m\u001b[37m\u001b[0m \u001b[1m0s\u001b[0m 12ms/step - loss: 3.3498 - mean_absolute_error: 1.2927 - mean_squared_error: 3.3498 - val_loss: 3.1480 - val_mean_absolute_error: 1.1329 - val_mean_squared_error: 3.1480\n",
            "Epoch 79/100\n",
            "\u001b[1m12/12\u001b[0m \u001b[32m━━━━━━━━━━━━━━━━━━━━\u001b[0m\u001b[37m\u001b[0m \u001b[1m0s\u001b[0m 8ms/step - loss: 2.5759 - mean_absolute_error: 1.1788 - mean_squared_error: 2.5759 - val_loss: 3.6074 - val_mean_absolute_error: 1.3530 - val_mean_squared_error: 3.6074\n",
            "Epoch 80/100\n",
            "\u001b[1m12/12\u001b[0m \u001b[32m━━━━━━━━━━━━━━━━━━━━\u001b[0m\u001b[37m\u001b[0m \u001b[1m0s\u001b[0m 8ms/step - loss: 3.4635 - mean_absolute_error: 1.3743 - mean_squared_error: 3.4635 - val_loss: 3.2541 - val_mean_absolute_error: 1.1190 - val_mean_squared_error: 3.2541\n",
            "Epoch 81/100\n",
            "\u001b[1m12/12\u001b[0m \u001b[32m━━━━━━━━━━━━━━━━━━━━\u001b[0m\u001b[37m\u001b[0m \u001b[1m0s\u001b[0m 8ms/step - loss: 2.5445 - mean_absolute_error: 1.1689 - mean_squared_error: 2.5445 - val_loss: 3.1078 - val_mean_absolute_error: 1.1651 - val_mean_squared_error: 3.1078\n",
            "Epoch 82/100\n",
            "\u001b[1m12/12\u001b[0m \u001b[32m━━━━━━━━━━━━━━━━━━━━\u001b[0m\u001b[37m\u001b[0m \u001b[1m0s\u001b[0m 7ms/step - loss: 2.9345 - mean_absolute_error: 1.2304 - mean_squared_error: 2.9345 - val_loss: 3.1041 - val_mean_absolute_error: 1.1326 - val_mean_squared_error: 3.1041\n",
            "Epoch 83/100\n",
            "\u001b[1m12/12\u001b[0m \u001b[32m━━━━━━━━━━━━━━━━━━━━\u001b[0m\u001b[37m\u001b[0m \u001b[1m0s\u001b[0m 7ms/step - loss: 3.0558 - mean_absolute_error: 1.1922 - mean_squared_error: 3.0558 - val_loss: 3.5365 - val_mean_absolute_error: 1.3749 - val_mean_squared_error: 3.5365\n",
            "Epoch 84/100\n",
            "\u001b[1m12/12\u001b[0m \u001b[32m━━━━━━━━━━━━━━━━━━━━\u001b[0m\u001b[37m\u001b[0m \u001b[1m0s\u001b[0m 12ms/step - loss: 3.1185 - mean_absolute_error: 1.3080 - mean_squared_error: 3.1185 - val_loss: 2.9668 - val_mean_absolute_error: 1.0967 - val_mean_squared_error: 2.9668\n",
            "Epoch 85/100\n",
            "\u001b[1m12/12\u001b[0m \u001b[32m━━━━━━━━━━━━━━━━━━━━\u001b[0m\u001b[37m\u001b[0m \u001b[1m0s\u001b[0m 8ms/step - loss: 2.6695 - mean_absolute_error: 1.1650 - mean_squared_error: 2.6695 - val_loss: 3.2824 - val_mean_absolute_error: 1.2703 - val_mean_squared_error: 3.2824\n",
            "Epoch 86/100\n",
            "\u001b[1m12/12\u001b[0m \u001b[32m━━━━━━━━━━━━━━━━━━━━\u001b[0m\u001b[37m\u001b[0m \u001b[1m0s\u001b[0m 7ms/step - loss: 2.7467 - mean_absolute_error: 1.1897 - mean_squared_error: 2.7467 - val_loss: 3.0582 - val_mean_absolute_error: 1.1354 - val_mean_squared_error: 3.0582\n",
            "Epoch 87/100\n",
            "\u001b[1m12/12\u001b[0m \u001b[32m━━━━━━━━━━━━━━━━━━━━\u001b[0m\u001b[37m\u001b[0m \u001b[1m0s\u001b[0m 8ms/step - loss: 3.0296 - mean_absolute_error: 1.2379 - mean_squared_error: 3.0296 - val_loss: 3.0424 - val_mean_absolute_error: 1.0737 - val_mean_squared_error: 3.0424\n",
            "Epoch 88/100\n",
            "\u001b[1m12/12\u001b[0m \u001b[32m━━━━━━━━━━━━━━━━━━━━\u001b[0m\u001b[37m\u001b[0m \u001b[1m0s\u001b[0m 7ms/step - loss: 2.9111 - mean_absolute_error: 1.2138 - mean_squared_error: 2.9111 - val_loss: 3.0191 - val_mean_absolute_error: 1.1259 - val_mean_squared_error: 3.0191\n",
            "Epoch 89/100\n",
            "\u001b[1m12/12\u001b[0m \u001b[32m━━━━━━━━━━━━━━━━━━━━\u001b[0m\u001b[37m\u001b[0m \u001b[1m0s\u001b[0m 7ms/step - loss: 2.4293 - mean_absolute_error: 1.1668 - mean_squared_error: 2.4293 - val_loss: 3.0281 - val_mean_absolute_error: 1.0743 - val_mean_squared_error: 3.0281\n",
            "Epoch 90/100\n",
            "\u001b[1m12/12\u001b[0m \u001b[32m━━━━━━━━━━━━━━━━━━━━\u001b[0m\u001b[37m\u001b[0m \u001b[1m0s\u001b[0m 9ms/step - loss: 2.9893 - mean_absolute_error: 1.1936 - mean_squared_error: 2.9893 - val_loss: 3.0866 - val_mean_absolute_error: 1.0981 - val_mean_squared_error: 3.0866\n",
            "Epoch 91/100\n",
            "\u001b[1m12/12\u001b[0m \u001b[32m━━━━━━━━━━━━━━━━━━━━\u001b[0m\u001b[37m\u001b[0m \u001b[1m0s\u001b[0m 7ms/step - loss: 2.6888 - mean_absolute_error: 1.1909 - mean_squared_error: 2.6888 - val_loss: 3.0071 - val_mean_absolute_error: 1.1406 - val_mean_squared_error: 3.0071\n",
            "Epoch 92/100\n",
            "\u001b[1m12/12\u001b[0m \u001b[32m━━━━━━━━━━━━━━━━━━━━\u001b[0m\u001b[37m\u001b[0m \u001b[1m0s\u001b[0m 7ms/step - loss: 2.3286 - mean_absolute_error: 1.1068 - mean_squared_error: 2.3286 - val_loss: 3.7415 - val_mean_absolute_error: 1.4424 - val_mean_squared_error: 3.7415\n",
            "Epoch 93/100\n",
            "\u001b[1m12/12\u001b[0m \u001b[32m━━━━━━━━━━━━━━━━━━━━\u001b[0m\u001b[37m\u001b[0m \u001b[1m0s\u001b[0m 7ms/step - loss: 2.3347 - mean_absolute_error: 1.1651 - mean_squared_error: 2.3347 - val_loss: 3.1141 - val_mean_absolute_error: 1.1850 - val_mean_squared_error: 3.1141\n",
            "Epoch 94/100\n",
            "\u001b[1m12/12\u001b[0m \u001b[32m━━━━━━━━━━━━━━━━━━━━\u001b[0m\u001b[37m\u001b[0m \u001b[1m0s\u001b[0m 8ms/step - loss: 2.7802 - mean_absolute_error: 1.2274 - mean_squared_error: 2.7802 - val_loss: 3.0963 - val_mean_absolute_error: 1.0632 - val_mean_squared_error: 3.0963\n",
            "Epoch 95/100\n",
            "\u001b[1m12/12\u001b[0m \u001b[32m━━━━━━━━━━━━━━━━━━━━\u001b[0m\u001b[37m\u001b[0m \u001b[1m0s\u001b[0m 7ms/step - loss: 2.8274 - mean_absolute_error: 1.1973 - mean_squared_error: 2.8274 - val_loss: 2.9827 - val_mean_absolute_error: 1.1227 - val_mean_squared_error: 2.9827\n",
            "Epoch 96/100\n",
            "\u001b[1m12/12\u001b[0m \u001b[32m━━━━━━━━━━━━━━━━━━━━\u001b[0m\u001b[37m\u001b[0m \u001b[1m0s\u001b[0m 8ms/step - loss: 2.9778 - mean_absolute_error: 1.1692 - mean_squared_error: 2.9778 - val_loss: 3.0392 - val_mean_absolute_error: 1.1877 - val_mean_squared_error: 3.0392\n",
            "Epoch 97/100\n",
            "\u001b[1m12/12\u001b[0m \u001b[32m━━━━━━━━━━━━━━━━━━━━\u001b[0m\u001b[37m\u001b[0m \u001b[1m0s\u001b[0m 35ms/step - loss: 2.5766 - mean_absolute_error: 1.1339 - mean_squared_error: 2.5766 - val_loss: 3.6306 - val_mean_absolute_error: 1.4153 - val_mean_squared_error: 3.6306\n",
            "Epoch 98/100\n",
            "\u001b[1m12/12\u001b[0m \u001b[32m━━━━━━━━━━━━━━━━━━━━\u001b[0m\u001b[37m\u001b[0m \u001b[1m0s\u001b[0m 8ms/step - loss: 2.7614 - mean_absolute_error: 1.2237 - mean_squared_error: 2.7614 - val_loss: 3.0540 - val_mean_absolute_error: 1.0968 - val_mean_squared_error: 3.0540\n",
            "Epoch 99/100\n",
            "\u001b[1m12/12\u001b[0m \u001b[32m━━━━━━━━━━━━━━━━━━━━\u001b[0m\u001b[37m\u001b[0m \u001b[1m0s\u001b[0m 9ms/step - loss: 3.7336 - mean_absolute_error: 1.2864 - mean_squared_error: 3.7336 - val_loss: 2.8719 - val_mean_absolute_error: 1.1036 - val_mean_squared_error: 2.8719\n",
            "Epoch 100/100\n",
            "\u001b[1m12/12\u001b[0m \u001b[32m━━━━━━━━━━━━━━━━━━━━\u001b[0m\u001b[37m\u001b[0m \u001b[1m0s\u001b[0m 7ms/step - loss: 2.9499 - mean_absolute_error: 1.2246 - mean_squared_error: 2.9499 - val_loss: 3.0190 - val_mean_absolute_error: 1.1809 - val_mean_squared_error: 3.0190\n"
          ]
        }
      ]
    },
    {
      "cell_type": "code",
      "source": [
        "yp_train_1 = m1.predict(X_train)\n",
        "yp_test_1 = m1.predict(X_test)\n",
        "yp_train_2 = m2.predict(X_train)\n",
        "yp_test_2 = m2.predict(X_test)\n",
        "yp_train_3 = m3.predict(X_train)\n",
        "yp_test_3 = m3.predict(X_test)\n",
        "\n",
        "# exponential function to get original results\n",
        "yp_train_1 = np.exp(yp_train_1)\n",
        "yp_test_1 = np.exp(yp_test_1)\n",
        "yp_train_2 = np.exp(yp_train_2)\n",
        "yp_test_2 = np.exp(yp_test_2)\n",
        "yp_train_3 = np.exp(yp_train_3)\n",
        "yp_test_3 = np.exp(yp_test_3)"
      ],
      "metadata": {
        "colab": {
          "base_uri": "https://localhost:8080/"
        },
        "id": "-E8k-IZB72pB",
        "outputId": "bc81222c-dc39-4d44-f713-a187feb1cbbb"
      },
      "execution_count": null,
      "outputs": [
        {
          "output_type": "stream",
          "name": "stdout",
          "text": [
            "\u001b[1m13/13\u001b[0m \u001b[32m━━━━━━━━━━━━━━━━━━━━\u001b[0m\u001b[37m\u001b[0m \u001b[1m0s\u001b[0m 4ms/step \n",
            "\u001b[1m4/4\u001b[0m \u001b[32m━━━━━━━━━━━━━━━━━━━━\u001b[0m\u001b[37m\u001b[0m \u001b[1m0s\u001b[0m 9ms/step \n",
            "\u001b[1m13/13\u001b[0m \u001b[32m━━━━━━━━━━━━━━━━━━━━\u001b[0m\u001b[37m\u001b[0m \u001b[1m0s\u001b[0m 3ms/step \n",
            "\u001b[1m4/4\u001b[0m \u001b[32m━━━━━━━━━━━━━━━━━━━━\u001b[0m\u001b[37m\u001b[0m \u001b[1m0s\u001b[0m 7ms/step \n",
            "\u001b[1m13/13\u001b[0m \u001b[32m━━━━━━━━━━━━━━━━━━━━\u001b[0m\u001b[37m\u001b[0m \u001b[1m0s\u001b[0m 3ms/step \n",
            "\u001b[1m4/4\u001b[0m \u001b[32m━━━━━━━━━━━━━━━━━━━━\u001b[0m\u001b[37m\u001b[0m \u001b[1m0s\u001b[0m 8ms/step \n"
          ]
        }
      ]
    },
    {
      "cell_type": "markdown",
      "source": [
        "### Prediction Results"
      ],
      "metadata": {
        "id": "ZtGqGL8SoN_c"
      }
    },
    {
      "cell_type": "code",
      "source": [
        "\n",
        "plt.plot(history_1.history['loss'], label = 'training loss', color ='k')\n",
        "plt.plot(history_1.history['val_loss'], label ='validation loss', color = 'r')\n",
        "plt.title('Loss vs epoch')\n",
        "plt.xlabel('epoch')\n",
        "plt.ylabel('loss')\n",
        "plt.legend()\n",
        "plt.show()\n",
        "\n",
        "plt.plot(history_2.history['loss'], label = 'training loss', color ='k')\n",
        "plt.plot(history_2.history['val_loss'], label ='validation loss', color = 'r')\n",
        "plt.title('Loss vs epoch')\n",
        "plt.xlabel('epoch')\n",
        "plt.ylabel('loss')\n",
        "plt.legend()\n",
        "plt.show()\n",
        "\n",
        "plt.plot(history_3.history['loss'], label = 'training loss', color ='k')\n",
        "plt.plot(history_3.history['val_loss'], label ='validation loss', color = 'r')\n",
        "plt.title('Loss vs epoch')\n",
        "plt.xlabel('epoch')\n",
        "plt.ylabel('loss')\n",
        "plt.legend()\n",
        "plt.show()"
      ],
      "metadata": {
        "colab": {
          "base_uri": "https://localhost:8080/",
          "height": 1000
        },
        "id": "pB9NPUYkZlur",
        "outputId": "deb68678-f952-4f9a-9d1b-eeb98d8a52ba"
      },
      "execution_count": null,
      "outputs": [
        {
          "output_type": "display_data",
          "data": {
            "text/plain": [
              "<Figure size 640x480 with 1 Axes>"
            ],
            "image/png": "[encoded data removed]"
          },
          "metadata": {}
        },
        {
          "output_type": "display_data",
          "data": {
            "text/plain": [
              "<Figure size 640x480 with 1 Axes>"
            ],
            "image/png": "[encoded data removed]"
          },
          "metadata": {}
        },
        {
          "output_type": "display_data",
          "data": {
            "text/plain": [
              "<Figure size 640x480 with 1 Axes>"
            ],
            "image/png": "[encoded data removed]"
          },
          "metadata": {}
        }
      ]
    },
    {
      "cell_type": "code",
      "source": [],
      "metadata": {
        "id": "IEPAR2v60QOf"
      },
      "execution_count": null,
      "outputs": []
    },
    {
      "cell_type": "markdown",
      "source": [],
      "metadata": {
        "id": "sgkvBfRK0kSp"
      }
    }
  ]
}
